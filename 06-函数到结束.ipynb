{
 "cells": [
  {
   "cell_type": "markdown",
   "metadata": {},
   "source": [
    "# 四类参数\n",
    "- 普通参数\n",
    "- 默认参数\n",
    "- 关键字参数\n",
    "- 收集参数\n",
    "## 关键字参数\n",
    "- 语法\n",
    "           def func_name（p1=v1，p2=v2，······）：\n",
    "               func_body\n",
    "            \n",
    "            # 调用\n",
    "              func_name（p1=value1,p2=value2,······）\n",
    "- 比较麻烦，但也有好处：\n",
    "    - 不容易混淆，一般实参和形参只是按照位置一一对应即可，容易出错\n",
    "    - 使用关键字参数，可以不考虑关键字位置"
   ]
  },
  {
   "cell_type": "code",
   "execution_count": 4,
   "metadata": {},
   "outputs": [
    {
     "name": "stdout",
     "output_type": "stream",
     "text": [
      "i am a student\n",
      "我叫18，我今年lily岁了，我住在深圳\n",
      "i am a student\n",
      "我叫lily，我今年18岁了，我住在深圳\n"
     ]
    }
   ],
   "source": [
    "#关键字参数案例\n",
    "def stu(name,age,addr):\n",
    "    print(\"i am a student\")\n",
    "    print(\"我叫{0}，我今年{1}岁了，我住在{2}\".format(name,age,addr))\n",
    "n=\"lily\"\n",
    "a=18\n",
    "addr=\"深圳\"\n",
    "#普通参数按照位置传递，容易出错\n",
    "stu(a,n,addr)\n",
    "\n",
    "#关键字参数案例\n",
    "def stu_sky(name=\"no\",age=0,addr=\"ad\"):\n",
    "    print(\"i am a student\")\n",
    "    print(\"我叫{0}，我今年{1}岁了，我住在{2}\".format(name,age,addr))\n",
    "n=\"lily\"\n",
    "a=18\n",
    "addr=\"深圳\"\n",
    "#普通参数按照位置传递，容易出错\n",
    "stu(age=a,name=n,addr=addr)"
   ]
  },
  {
   "cell_type": "markdown",
   "metadata": {},
   "source": [
    "## 收集参数\n",
    "- 把没有位置，不能和定义时的参数位置想对应的参数，放入一个特定的数据结构中\n",
    "- 语法\n",
    "        def func(*args):\n",
    "            func_body\n",
    "            按照list使用方式访问args,得到传入的参数\n",
    "            \n",
    "        调用：\n",
    "        func(p1,p2,p3······)\n",
    "- 参数名args不是必须这么写，但是我们推荐这么写，约定俗成\n",
    "- 参数名args前需要由星号开始\n",
    "- 收集参数可以和其他参数共存"
   ]
  },
  {
   "cell_type": "code",
   "execution_count": 11,
   "metadata": {},
   "outputs": [
    {
     "name": "stdout",
     "output_type": "stream",
     "text": [
      "大家好\n",
      "<class 'tuple'>\n",
      "lily\n",
      "20\n",
      "shenzhen\n",
      "single\n",
      "大家好\n",
      "<class 'tuple'>\n",
      "lilei\n",
      "大家好\n",
      "<class 'tuple'>\n"
     ]
    }
   ],
   "source": [
    "#收集参数例子\n",
    "#模拟学生做自我介绍，但具体内容并不清楚\n",
    "#args看成一个列表\n",
    "def stu(*args):\n",
    "    print(\"大家好\")\n",
    "    #type函数的作用是检测变量的类型\n",
    "    print(type(args))\n",
    "    for item in args:\n",
    "        print(item)\n",
    "stu(\"lily\",20,\"shenzhen\",\"single\")\n",
    "stu(\"lilei\")\n",
    "stu()\n",
    "#可以不带任何实参调用，此时收集参数为空tuple"
   ]
  },
  {
   "cell_type": "code",
   "execution_count": 12,
   "metadata": {},
   "outputs": [
    {
     "ename": "TypeError",
     "evalue": "stu() got an unexpected keyword argument 'name'",
     "output_type": "error",
     "traceback": [
      "\u001b[1;31m---------------------------------------------------------------------------\u001b[0m",
      "\u001b[1;31mTypeError\u001b[0m                                 Traceback (most recent call last)",
      "\u001b[1;32m<ipython-input-12-a1b9868c6894>\u001b[0m in \u001b[0;36m<module>\u001b[1;34m()\u001b[0m\n\u001b[0;32m      1\u001b[0m \u001b[1;31m#如果使用关键字参数格式调用，会出现问题\u001b[0m\u001b[1;33m\u001b[0m\u001b[1;33m\u001b[0m\u001b[0m\n\u001b[1;32m----> 2\u001b[1;33m \u001b[0mstu\u001b[0m\u001b[1;33m(\u001b[0m\u001b[0mname\u001b[0m\u001b[1;33m=\u001b[0m\u001b[1;34m\"lily\"\u001b[0m\u001b[1;33m)\u001b[0m\u001b[1;33m\u001b[0m\u001b[0m\n\u001b[0m",
      "\u001b[1;31mTypeError\u001b[0m: stu() got an unexpected keyword argument 'name'"
     ]
    }
   ],
   "source": [
    "#如果使用关键字参数格式调用，会出现问题\n",
    "stu(name=\"lily\")"
   ]
  },
  {
   "cell_type": "markdown",
   "metadata": {},
   "source": [
    "### 收集参数之关键字收集参数\n",
    "- 把关键字参数按字典格式放入收集参数\n",
    "- 语法：\n",
    "        def func(**kwargs):\n",
    "            func_body\n",
    "        调用：\n",
    "        func(p1=v1,p2=v2,p3=v3,······)\n",
    "- kwargs一般约定俗成\n",
    "- 调用的时候，把多余的关键字参数放入kwargs\n",
    "- 访问kwargs需要按照字典的格式访问"
   ]
  },
  {
   "cell_type": "code",
   "execution_count": 16,
   "metadata": {},
   "outputs": [
    {
     "name": "stdout",
     "output_type": "stream",
     "text": [
      "大家好，下面我先自我介绍一下:\n",
      "<class 'dict'>\n",
      "name ----- lily\n",
      "age ----- 18\n",
      "addr ----- shenzhen\n",
      "******************************\n",
      "大家好，下面我先自我介绍一下:\n",
      "<class 'dict'>\n",
      "name ----- hanmeimei\n"
     ]
    }
   ],
   "source": [
    "#收集参数案例\n",
    "#自我介绍\n",
    "#调用的时候使用关键字参数\n",
    "def stu(**kwargs):\n",
    "    print(\"大家好，下面我先自我介绍一下:\")\n",
    "    #函数体内的kworgs不用带星号\n",
    "    print(type(kwargs))\n",
    "    #对于字典的访问python 2和3 不能通用\n",
    "    for k,v in kwargs.items():\n",
    "        print(k,\"-----\",v)\n",
    "stu(name=\"lily\",age=18,addr=\"shenzhen\")\n",
    "print(\"*\"*30)\n",
    "stu(name=\"hanmeimei\")"
   ]
  },
  {
   "cell_type": "markdown",
   "metadata": {},
   "source": [
    "### 收集参数混合调用的顺序问题\n",
    "- 收集参数，关键字参数，普通参数可以混合使用\n",
    "- 使用规则：普通参数和关键字参数优先\n",
    "- 定义的时候一般找普通参数，关键字参数，收集参数tuple,收集参数dict\n"
   ]
  },
  {
   "cell_type": "code",
   "execution_count": 22,
   "metadata": {},
   "outputs": [
    {
     "name": "stdout",
     "output_type": "stream",
     "text": [
      "大家好，下面我做一下自我介绍\n",
      "我叫lily，我今年30了，\n",
      "我没有爱好\n",
      "------------------------------\n",
      "******************************\n",
      "大家好，下面我做一下自我介绍\n",
      "我叫lily，我今年30了，\n",
      "我的爱好是看剧\n",
      "------------------------------\n",
      "******************************\n",
      "大家好，下面我做一下自我介绍\n",
      "我叫lily，我今年30了，\n",
      "我的爱好是看剧\n",
      "------------------------------\n",
      "张三\n",
      "李四\n",
      "******************************\n",
      "hobby2 -------- 逛街\n",
      "hobby3 -------- 美食\n"
     ]
    }
   ],
   "source": [
    "#收集参数混合调用案例\n",
    "def stu(name,age,*args,hobby=\"没有\",**kwargs):\n",
    "    print(\"大家好，下面我做一下自我介绍\")\n",
    "    print(\"我叫{0}，我今年{1}了，\".format(name,age))\n",
    "    if hobby==\"没有\":\n",
    "        print(\"我没有爱好\")\n",
    "    else:\n",
    "        print(\"我的爱好是{0}\".format(hobby))\n",
    "    print(\"-\"*30)\n",
    "    \n",
    "    for i in args:\n",
    "        print(i)\n",
    "    print(\"*\"*30)\n",
    "    \n",
    "    for k,v in kwargs.items():\n",
    "        print(k,\"--------\",v)\n",
    "#开始调用\n",
    "name=\"lily\"\n",
    "age=\"30\"\n",
    "#调用的不同格式\n",
    "stu(name,age)\n",
    "stu(name,age,hobby=\"看剧\")\n",
    "stu(name,age,\"张三\",\"李四\",hobby=\"看剧\",hobby2=\"逛街\",hobby3=\"美食\")"
   ]
  },
  {
   "cell_type": "markdown",
   "metadata": {},
   "source": [
    "### 收集参数的解包问题\n",
    "- 把参数放入List或者字典中，直接把list/dict中的值放入收集参数中\n",
    "- 语法：参看案例"
   ]
  },
  {
   "cell_type": "code",
   "execution_count": 32,
   "metadata": {},
   "outputs": [
    {
     "name": "stdout",
     "output_type": "stream",
     "text": [
      "hahahahahahhaha\n",
      "<class 'list'>\n",
      "0\n",
      "['lily', 19, 'shenzhen']\n",
      "##################################################\n",
      "hahahahahahhaha\n",
      "<class 'str'>\n",
      "0\n",
      "lily\n",
      "##################################################\n",
      "<class 'int'>\n",
      "1\n",
      "19\n",
      "##################################################\n",
      "<class 'str'>\n",
      "2\n",
      "shenzhen\n",
      "##################################################\n"
     ]
    }
   ],
   "source": [
    "#收集参数的解包问题\n",
    "def stu(*args):\n",
    "    print(\"hahahahahahhaha\")\n",
    "    #n表示循环次数，主要用来调试\n",
    "    n=0\n",
    "    for i in args:\n",
    "        print(type(i))\n",
    "        print(n)\n",
    "        n+=1\n",
    "        print(i)\n",
    "        print(\"#\"*50)\n",
    "        \n",
    "l=[\"lily\",19,\"shenzhen\"]\n",
    "stu(l)\n",
    "#此时args是tuple中一个list类型的元素，及args=([\"lily\",19,\"shenzhen\"],),不是我们想要的效果\n",
    "\n",
    "#此时的调用 我们就需要解包，及调用的时候前面加一个*\n",
    "stu(*l)"
   ]
  },
  {
   "cell_type": "markdown",
   "metadata": {},
   "source": [
    "# 同理dict类型收集参数同样可以解包，但是\n",
    "- 对dict类型解包，需要用两个星号**"
   ]
  },
  {
   "cell_type": "markdown",
   "metadata": {},
   "source": [
    "# 返回值\n",
    "- 函数和过程的区别\n",
    "    - 有无返回值\n",
    "- 需要用return显示返回内容\n",
    "- 如果没有返回，则默认返回None\n",
    "- 推荐写法：无论有没有返回值，最后都以return结束"
   ]
  },
  {
   "cell_type": "code",
   "execution_count": 34,
   "metadata": {},
   "outputs": [
    {
     "name": "stdout",
     "output_type": "stream",
     "text": [
      "有返回值呀\n",
      "--------------------------------------------------\n",
      "有返回值呀\n",
      "1\n",
      "没有返回值\n",
      "None\n"
     ]
    }
   ],
   "source": [
    "#返回值示例\n",
    "def func_1():\n",
    "    print(\"有返回值呀\")\n",
    "    return 1\n",
    "def func_2():\n",
    "    print(\"没有返回值\")\n",
    " \n",
    "func_1()\n",
    "print(\"-\"*50)\n",
    "f1=func_1()\n",
    "print(f1)\n",
    "    \n",
    "f2=func_2()\n",
    "print(f2)"
   ]
  },
  {
   "cell_type": "markdown",
   "metadata": {},
   "source": [
    "# 函数文档\n",
    "- 函数文档的作用是对当前函数提供使用的相关参考信息\n",
    "- 文档的写法：\n",
    "    - 在函数内部开始的第一行使用三单引号字符串定义符\n",
    "    - 一般具有特定格式\n",
    "    - 参看案例\n",
    "- 文档查看\n",
    "    - 使用Help函数，形如help(func)\n",
    "    - 使用__doc__,前后各两个横线"
   ]
  },
  {
   "cell_type": "code",
   "execution_count": 40,
   "metadata": {},
   "outputs": [],
   "source": [
    "#文档案例\n",
    "#函数stu是模拟一个学生自我介绍的内容\n",
    "def stu(name,age,*args):\n",
    "    '''\n",
    "    这是文档\n",
    "    这是第二行\n",
    "    这是第三行\n",
    "    '''\n",
    "    print(\"this is hanshu stu\")"
   ]
  },
  {
   "cell_type": "code",
   "execution_count": 41,
   "metadata": {},
   "outputs": [
    {
     "name": "stdout",
     "output_type": "stream",
     "text": [
      "Help on function stu in module __main__:\n",
      "\n",
      "stu(name, age, *args)\n",
      "    这是文档\n",
      "    这是第二行\n",
      "    这是第三行\n",
      "\n"
     ]
    },
    {
     "data": {
      "text/plain": [
       "'\\n    这是文档\\n    这是第二行\\n    这是第三行\\n    '"
      ]
     },
     "execution_count": 41,
     "metadata": {},
     "output_type": "execute_result"
    }
   ],
   "source": [
    "help(stu)\n",
    "stu.__doc__"
   ]
  },
  {
   "cell_type": "code",
   "execution_count": null,
   "metadata": {},
   "outputs": [],
   "source": []
  },
  {
   "cell_type": "code",
   "execution_count": null,
   "metadata": {},
   "outputs": [],
   "source": []
  }
 ],
 "metadata": {
  "kernelspec": {
   "display_name": "Python 3",
   "language": "python",
   "name": "python3"
  },
  "language_info": {
   "codemirror_mode": {
    "name": "ipython",
    "version": 3
   },
   "file_extension": ".py",
   "mimetype": "text/x-python",
   "name": "python",
   "nbconvert_exporter": "python",
   "pygments_lexer": "ipython3",
   "version": "3.7.0"
  }
 },
 "nbformat": 4,
 "nbformat_minor": 2
}
