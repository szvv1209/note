{
 "cells": [
  {
   "cell_type": "markdown",
   "metadata": {},
   "source": [
    "# 汉诺塔问题\n",
    "- 规则：1.每次只移动一个盘子；2.任何一次移动，三个塔上的盘子必须小盘子在上，大盘子在下\n",
    "- 方法：\n",
    "    1.n=1:直接把A上的盘子移动到C上\n",
    "    \n",
    "    2.n=2:把小盘子从A放到B上，A->B\n",
    "          把大盘子从A放到C上，A->C\n",
    "          把小盘子从B放到C上，B->C\n",
    "    3.n=3:把A上的两个盘子通过，通过c移到b上去，调用递归实现\n",
    "          把A上剩下的一个最大的盘子，移动到C上，A->C\n",
    "          把B上两个盘子，借助于A挪到C上去，调用递归\n",
    "    4.n=n:把A上的n-1个盘子借助C移动到B上，调用递归\n",
    "          把A上的最大盘子，也是唯一一个移动到C上，A->C\n",
    "          把B上n-1个盘子借助于A移动到C上，调用递归"
   ]
  },
  {
   "cell_type": "code",
   "execution_count": 2,
   "metadata": {},
   "outputs": [
    {
     "name": "stdout",
     "output_type": "stream",
     "text": [
      "A --> C\n"
     ]
    }
   ],
   "source": [
    "def hano(n,a,b,c):\n",
    "    '''\n",
    "    n代表几个盘子\n",
    "    a代表第一个塔，开始的塔\n",
    "    b代表第二个塔，中间过渡的塔\n",
    "    c代表第三个塔,目标塔\n",
    "    '''\n",
    "    if n==1:\n",
    "        print(a,\"-->\",c)\n",
    "        return None\n",
    "    if n==2:\n",
    "        print(a,\"-->\",b)\n",
    "        print(a,\"-->\",c)\n",
    "        print(b,\"-->\",c)\n",
    "        return None\n",
    "    #把n-1个盘子从a塔借助c塔移动到b塔上\n",
    "    hano(n-1,a,c,b)\n",
    "    print(a,\"-->\",c)\n",
    "    #把n-1个盘子从b塔借助a塔移动到c塔上\n",
    "    hano(n-1,b,a,c)\n",
    "a=\"A\"\n",
    "b=\"B\"\n",
    "c=\"C\"\n",
    "n=1\n",
    "hano(n,a,b,c)"
   ]
  },
  {
   "cell_type": "code",
   "execution_count": 3,
   "metadata": {},
   "outputs": [
    {
     "name": "stdout",
     "output_type": "stream",
     "text": [
      "A --> B\n",
      "A --> C\n",
      "B --> C\n"
     ]
    }
   ],
   "source": [
    "n=2\n",
    "hano(n,a,b,c)"
   ]
  },
  {
   "cell_type": "code",
   "execution_count": 4,
   "metadata": {},
   "outputs": [
    {
     "name": "stdout",
     "output_type": "stream",
     "text": [
      "A --> C\n",
      "A --> B\n",
      "C --> B\n",
      "A --> C\n",
      "B --> A\n",
      "B --> C\n",
      "A --> C\n"
     ]
    }
   ],
   "source": [
    "n=3\n",
    "hano(n,a,b,c)"
   ]
  },
  {
   "cell_type": "code",
   "execution_count": 5,
   "metadata": {},
   "outputs": [
    {
     "name": "stdout",
     "output_type": "stream",
     "text": [
      "A --> C\n",
      "A --> B\n",
      "C --> B\n",
      "A --> C\n",
      "B --> A\n",
      "B --> C\n",
      "A --> C\n",
      "A --> B\n",
      "C --> B\n",
      "C --> A\n",
      "B --> A\n",
      "C --> B\n",
      "A --> C\n",
      "A --> B\n",
      "C --> B\n",
      "A --> C\n",
      "B --> A\n",
      "B --> C\n",
      "A --> C\n",
      "B --> A\n",
      "C --> B\n",
      "C --> A\n",
      "B --> A\n",
      "B --> C\n",
      "A --> C\n",
      "A --> B\n",
      "C --> B\n",
      "A --> C\n",
      "B --> A\n",
      "B --> C\n",
      "A --> C\n"
     ]
    }
   ],
   "source": [
    "n=5\n",
    "hano(n,a,b,c)"
   ]
  },
  {
   "cell_type": "markdown",
   "metadata": {},
   "source": [
    "# list(列表)\n",
    "- del:删除命令"
   ]
  },
  {
   "cell_type": "code",
   "execution_count": 6,
   "metadata": {},
   "outputs": [
    {
     "name": "stdout",
     "output_type": "stream",
     "text": [
      "[1, 2, 4, 5]\n"
     ]
    }
   ],
   "source": [
    "#del删除命令\n",
    "l=[1,2,3,4,5]\n",
    "del l[2]\n",
    "print(l)"
   ]
  },
  {
   "cell_type": "code",
   "execution_count": 7,
   "metadata": {},
   "outputs": [
    {
     "name": "stdout",
     "output_type": "stream",
     "text": [
      "2565457673736\n",
      "2565457673736\n",
      "[1, 2, 4, 5]\n"
     ]
    }
   ],
   "source": [
    "#del删除命令\n",
    "l=[1,2,3,4,5]\n",
    "print(id(l))\n",
    "del l[2]\n",
    "print(id(l))\n",
    "print(l)"
   ]
  },
  {
   "cell_type": "code",
   "execution_count": 8,
   "metadata": {},
   "outputs": [
    {
     "ename": "NameError",
     "evalue": "name 'l' is not defined",
     "output_type": "error",
     "traceback": [
      "\u001b[1;31m---------------------------------------------------------------------------\u001b[0m",
      "\u001b[1;31mNameError\u001b[0m                                 Traceback (most recent call last)",
      "\u001b[1;32m<ipython-input-8-b64877865189>\u001b[0m in \u001b[0;36m<module>\u001b[1;34m()\u001b[0m\n\u001b[0;32m      1\u001b[0m \u001b[1;31m#del一个变量之后，不能再使用这个变量\u001b[0m\u001b[1;33m\u001b[0m\u001b[1;33m\u001b[0m\u001b[0m\n\u001b[0;32m      2\u001b[0m \u001b[1;32mdel\u001b[0m \u001b[0ml\u001b[0m\u001b[1;33m\u001b[0m\u001b[0m\n\u001b[1;32m----> 3\u001b[1;33m \u001b[0mprint\u001b[0m\u001b[1;33m(\u001b[0m\u001b[0ml\u001b[0m\u001b[1;33m)\u001b[0m\u001b[1;33m\u001b[0m\u001b[0m\n\u001b[0m",
      "\u001b[1;31mNameError\u001b[0m: name 'l' is not defined"
     ]
    }
   ],
   "source": [
    "#del一个变量之后，不能再使用这个变量\n",
    "del l\n",
    "print(l)"
   ]
  },
  {
   "cell_type": "code",
   "execution_count": 10,
   "metadata": {},
   "outputs": [
    {
     "name": "stdout",
     "output_type": "stream",
     "text": [
      "[1, 2, 3, 4, 5, 5, 6, 7, 8, 9]\n"
     ]
    }
   ],
   "source": [
    "#使用加号连接两个列表\n",
    "a=[1,2,3,4,5]\n",
    "b=[5,6,7,8,9]\n",
    "c=a+b\n",
    "print(c)"
   ]
  },
  {
   "cell_type": "code",
   "execution_count": 11,
   "metadata": {},
   "outputs": [
    {
     "name": "stdout",
     "output_type": "stream",
     "text": [
      "[1, 2, 3, 4, 5, 1, 2, 3, 4, 5, 1, 2, 3, 4, 5, 1, 2, 3, 4, 5]\n"
     ]
    }
   ],
   "source": [
    "#使用乘号操作列表\n",
    "#列表直接跟一个整数相乘\n",
    "#相当于把N个列表连接在一起\n",
    "a=[1,2,3,4,5]\n",
    "b=a*4\n",
    "print(b)"
   ]
  },
  {
   "cell_type": "code",
   "execution_count": 12,
   "metadata": {},
   "outputs": [
    {
     "name": "stdout",
     "output_type": "stream",
     "text": [
      "False\n",
      "True\n"
     ]
    }
   ],
   "source": [
    "#成员资格运算\n",
    "#就是判断一个元素是否在list里面\n",
    "a=[1,2,3,4,5,6]\n",
    "b=8\n",
    "d=4\n",
    "c=b in a\n",
    "e=d in a\n",
    "#c的值是一个布尔值\n",
    "print(c)\n",
    "print(e)"
   ]
  },
  {
   "cell_type": "code",
   "execution_count": 13,
   "metadata": {},
   "outputs": [
    {
     "name": "stdout",
     "output_type": "stream",
     "text": [
      "True\n"
     ]
    }
   ],
   "source": [
    "# not in \n",
    "a=[1,2,3,4,5,6]\n",
    "b=9\n",
    "print(b not in a)"
   ]
  },
  {
   "cell_type": "markdown",
   "metadata": {},
   "source": [
    "# 链表的遍历\n",
    "- for\n",
    "- while"
   ]
  },
  {
   "cell_type": "code",
   "execution_count": 14,
   "metadata": {},
   "outputs": [
    {
     "name": "stdout",
     "output_type": "stream",
     "text": [
      "1\n",
      "2\n",
      "3\n",
      "4\n",
      "5\n"
     ]
    }
   ],
   "source": [
    "# for in list\n",
    "a=[1,2,3,4,5]\n",
    "#挨个打印a里面的元素\n",
    "for i in a:\n",
    "    print(i)\n",
    "#in 后面的内容要求是可迭代的"
   ]
  },
  {
   "cell_type": "code",
   "execution_count": 16,
   "metadata": {},
   "outputs": [
    {
     "name": "stdout",
     "output_type": "stream",
     "text": [
      "2\n",
      "3\n",
      "4\n",
      "5\n",
      "6\n"
     ]
    }
   ],
   "source": [
    "#while循环访问List\n",
    "#一般不用while遍历list\n",
    "a=[2,3,4,5,6]\n",
    "length=len(a)\n",
    "#indx表示a的下边\n",
    "indx=0\n",
    "while indx<length:\n",
    "    print(a[indx])\n",
    "    indx+=1"
   ]
  },
  {
   "cell_type": "code",
   "execution_count": 17,
   "metadata": {},
   "outputs": [
    {
     "name": "stdout",
     "output_type": "stream",
     "text": [
      "one -- 1\n",
      "two -- 2\n",
      "three -- 3\n"
     ]
    }
   ],
   "source": [
    "#双层列表循环\n",
    "#a为嵌套列表或双层列表\n",
    "a=[[\"one\",1],[\"two\",2],[\"three\",3]]\n",
    "for k,v in a:\n",
    "    print(k,\"--\",v)"
   ]
  },
  {
   "cell_type": "code",
   "execution_count": 20,
   "metadata": {},
   "outputs": [
    {
     "name": "stdout",
     "output_type": "stream",
     "text": [
      "one -- 1 -- 一\n",
      "two -- 2 -- 二\n",
      "three -- 3 -- 4\n"
     ]
    }
   ],
   "source": [
    "#双层列表循环变异\n",
    "#a为嵌套列表或双层列表\n",
    "a=[[\"one\",1,\"一\"],[\"two\",2,\"二\"],[\"three\",3,4]]\n",
    "#这个例子说明k v w的个数两个跟解包出来的变量个数一致\n",
    "for k,v,w in a:\n",
    "    print(k,\"--\",v,\"--\",w)"
   ]
  },
  {
   "cell_type": "markdown",
   "metadata": {},
   "source": [
    "## 列表内涵 list content\n",
    "- 通过简单方法创建列表"
   ]
  },
  {
   "cell_type": "code",
   "execution_count": 22,
   "metadata": {},
   "outputs": [
    {
     "name": "stdout",
     "output_type": "stream",
     "text": [
      "[1, 2, 3]\n"
     ]
    }
   ],
   "source": [
    "#for创建\n",
    "a=[1,2,3]\n",
    "# lista 创建一个List b\n",
    "#对于所有a中的元素逐个放入b中\n",
    "b=[i for i in a]\n",
    "print(b)"
   ]
  },
  {
   "cell_type": "code",
   "execution_count": 24,
   "metadata": {},
   "outputs": [
    {
     "name": "stdout",
     "output_type": "stream",
     "text": [
      "[10, 20, 30]\n"
     ]
    }
   ],
   "source": [
    "#a中所有元素乘以10，生成一个新的list\n",
    "a=[1,2,3]\n",
    "# lista 创建一个List b\n",
    "#对于所有a中的元素逐个放入b中\n",
    "b=[i*10 for i in a]\n",
    "print(b)"
   ]
  },
  {
   "cell_type": "code",
   "execution_count": 27,
   "metadata": {},
   "outputs": [
    {
     "name": "stdout",
     "output_type": "stream",
     "text": [
      "[1, 2, 3, 4, 5, 6, 7, 8, 9, 10, 11, 12, 13, 14, 15, 16, 17, 18, 19]\n",
      "[2, 4, 6, 8, 10, 12, 14, 16, 18]\n"
     ]
    }
   ],
   "source": [
    "#还可以过滤原来列表中的内容放入新的List\n",
    "#比如原有列表a,需要把a中所有的偶数拿出来生成新的列表b\n",
    "a=[x for x in range(1,20)]\n",
    "b=[m for m in a if m%2==0]\n",
    "print(a)\n",
    "print(b)"
   ]
  },
  {
   "cell_type": "code",
   "execution_count": 35,
   "metadata": {},
   "outputs": [
    {
     "name": "stdout",
     "output_type": "stream",
     "text": [
      "[1, 2, 3]\n",
      "[100, 200, 300]\n",
      "[101, 201, 301, 102, 202, 302, 103, 203, 303]\n",
      "101  201  301  102  202  302  103  203  303  \n"
     ]
    }
   ],
   "source": [
    "#列表生成式可以嵌套\n",
    "#由两个列表a b\n",
    "a=[i for i in range(1,4)]\n",
    "b=[i for i in range(100,400) if i%100==0]\n",
    "print(a)\n",
    "print(b)\n",
    "\n",
    "#列表生成式可以嵌套,此时等于两个for循环嵌套\n",
    "c=[m+n for m in a for n in b]\n",
    "print(c)\n",
    "\n",
    "#上面代码跟下面代码逻辑等价\n",
    "for m in a:\n",
    "    for n in b:\n",
    "        print(m+n,end=\"  \")\n",
    "print()"
   ]
  },
  {
   "cell_type": "code",
   "execution_count": 37,
   "metadata": {},
   "outputs": [
    {
     "name": "stdout",
     "output_type": "stream",
     "text": [
      "[101, 201, 102, 202, 103, 203]\n"
     ]
    }
   ],
   "source": [
    "#列表生成式可以嵌套,也可以用if循环\n",
    "c=[m+n for m in a for n in b if m+n<250]\n",
    "print(c)"
   ]
  },
  {
   "cell_type": "markdown",
   "metadata": {},
   "source": [
    "# 关于列表的函数"
   ]
  },
  {
   "cell_type": "code",
   "execution_count": 42,
   "metadata": {},
   "outputs": [
    {
     "name": "stdout",
     "output_type": "stream",
     "text": [
      "99\n",
      "99\n",
      "1\n",
      "python\n"
     ]
    }
   ],
   "source": [
    "#len 求列表的长度\n",
    "a=[i for i in range(1,100)]\n",
    "print(len(a))\n",
    "\n",
    "#max 求列表内的最大值\n",
    "#min 同理\n",
    "print(max(a))\n",
    "print(min(a))\n",
    "b=[\"man\",\"film\",\"python\"]\n",
    "print(max(b))"
   ]
  },
  {
   "cell_type": "code",
   "execution_count": 43,
   "metadata": {},
   "outputs": [
    {
     "name": "stdout",
     "output_type": "stream",
     "text": [
      "[1, 2, 3]\n"
     ]
    }
   ],
   "source": [
    "#list:将其他格式数据转换成list,转换能转换的（可迭代的）\n",
    "a=[1,2,3]\n",
    "print(list(a))"
   ]
  },
  {
   "cell_type": "code",
   "execution_count": 44,
   "metadata": {},
   "outputs": [
    {
     "name": "stdout",
     "output_type": "stream",
     "text": [
      "['i', ' ', 'l', 'o', 'v', 'e', ' ', 'y', 'o', 'u']\n"
     ]
    }
   ],
   "source": [
    "s=\"i love you\"\n",
    "print(list(s))"
   ]
  },
  {
   "cell_type": "code",
   "execution_count": 46,
   "metadata": {},
   "outputs": [
    {
     "name": "stdout",
     "output_type": "stream",
     "text": [
      "[20, 21, 22, 23, 24, 25, 26, 27, 28, 29]\n"
     ]
    }
   ],
   "source": [
    "print(list(range(20,30)))"
   ]
  }
 ],
 "metadata": {
  "kernelspec": {
   "display_name": "Python 3",
   "language": "python",
   "name": "python3"
  },
  "language_info": {
   "codemirror_mode": {
    "name": "ipython",
    "version": 3
   },
   "file_extension": ".py",
   "mimetype": "text/x-python",
   "name": "python",
   "nbconvert_exporter": "python",
   "pygments_lexer": "ipython3",
   "version": "3.7.0"
  }
 },
 "nbformat": 4,
 "nbformat_minor": 2
}
