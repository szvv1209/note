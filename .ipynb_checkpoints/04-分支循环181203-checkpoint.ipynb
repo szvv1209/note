{
 "cells": [
  {
   "cell_type": "markdown",
   "metadata": {},
   "source": [
    "# 程序结构\n",
    "- 顺序\n",
    "- 分支\n",
    "- 循环"
   ]
  },
  {
   "cell_type": "markdown",
   "metadata": {},
   "source": [
    "# 分支\n",
    "- 分支的基本语法\n",
    "\n",
    "        if 条件表达式：\n",
    "           语句1\n",
    "           语句2\n",
    "           语句3\n",
    "           ······\n",
    "           \n",
    "- 条件表达式就是计算结果必须是布尔值的表达式\n",
    "- 表达式后面的冒号不能少\n",
    "- 注意if后面出现的语句，如果属于If语句块，则必须同一个缩进等级\n",
    "- 条件表达式的结果为True执行if后面缩进的语句块"
   ]
  },
  {
   "cell_type": "code",
   "execution_count": 3,
   "metadata": {},
   "outputs": [
    {
     "name": "stdout",
     "output_type": "stream",
     "text": [
      "我们可以开课了\n"
     ]
    }
   ],
   "source": [
    "#if语句练习\n",
    "#如果age小于18岁，则打印信息 去叫家长\n",
    "age=19\n",
    "if age<18 :\n",
    "    print('去叫家长吧,孩子')\n",
    "    print('我们不带你玩')\n",
    "    \n",
    "print('我们可以开课了')"
   ]
  },
  {
   "cell_type": "markdown",
   "metadata": {},
   "source": [
    "## 双向分支\n",
    "- if······else······语句\n",
    "\n",
    "        if 条件表达式:\n",
    "            语句1\n",
    "            语句2\n",
    "            ······\n",
    "        else:\n",
    "            语句1\n",
    "            语句2\n",
    "            ······\n",
    " \n",
    "- 双向分支有两个分支，当程序执行到if······else······的时候，一定会执行if或者else中的一个，也仅执行一个\n",
    "- 缩进问题，if和else是一个层级，其余语句块是一个层级"
   ]
  },
  {
   "cell_type": "code",
   "execution_count": 6,
   "metadata": {},
   "outputs": [
    {
     "name": "stdin",
     "output_type": "stream",
     "text": [
      "请输入性别： 女\n"
     ]
    },
    {
     "name": "stdout",
     "output_type": "stream",
     "text": [
      "你输入的性别是：女\n",
      "过来领礼物\n",
      "开始上课了\n"
     ]
    }
   ],
   "source": [
    "gender=input('请输入性别：')#input的作用：1在屏幕上输出括号内的字符串；2接受用户输入；3把输入内容返回语句，一定是字符串\n",
    "print('你输入的性别是：{0}'.format(gender))\n",
    "if gender=='男':\n",
    "    print('来我们纪念一下今天')\n",
    "else:\n",
    "    print('过来领礼物')\n",
    "        \n",
    "print('开始上课了')"
   ]
  },
  {
   "cell_type": "code",
   "execution_count": 9,
   "metadata": {},
   "outputs": [
    {
     "name": "stdin",
     "output_type": "stream",
     "text": [
      "请输入学生成绩： 58\n"
     ]
    },
    {
     "name": "stdout",
     "output_type": "stream",
     "text": [
      "我没你这撒学生\n"
     ]
    }
   ],
   "source": [
    "#考试成绩判断\n",
    "#注意input返回值类型是字符串，不是数值\n",
    "score=input('请输入学生成绩：')\n",
    "#需要把str转化为int\n",
    "score=int(score)\n",
    "if score>=90:\n",
    "    print('A')\n",
    "if score>=80 and score<90:\n",
    "    print('B')\n",
    "if score>=70 and score<80:\n",
    "    print('C')\n",
    "if score>=60 and score<70:\n",
    "    print('D')\n",
    "if score<60:\n",
    "    print('我没你这撒学生')"
   ]
  },
  {
   "cell_type": "markdown",
   "metadata": {},
   "source": [
    "## 多路分支\n",
    "- 很多分支的情况，简称多路分支\n",
    "\n",
    "         if 条件表达式：\n",
    "              语句1\n",
    "              ······\n",
    "          elif 条件表达式：\n",
    "               语句1\n",
    "                ······\n",
    "          elif 条件表达式：\n",
    "               语句1\n",
    "                ······\n",
    "          ······\n",
    "          else:\n",
    "               语句1\n",
    "               ······\n",
    "- elif 可以有很多个\n",
    "- else可选\n",
    "- 多路分支只选一个执行"
   ]
  },
  {
   "cell_type": "code",
   "execution_count": 3,
   "metadata": {},
   "outputs": [
    {
     "name": "stdin",
     "output_type": "stream",
     "text": [
      "请输入学生成绩： 85\n"
     ]
    },
    {
     "name": "stdout",
     "output_type": "stream",
     "text": [
      "B\n"
     ]
    }
   ],
   "source": [
    "#考试成绩判断\n",
    "#注意input返回值类型是字符串，不是数值\n",
    "score=input('请输入学生成绩：')\n",
    "#需要把str转化为int\n",
    "score=int(score)\n",
    "if score>=90:\n",
    "    print('A')\n",
    "elif score>=80:\n",
    "    print('B')\n",
    "elif score>=70:\n",
    "    print('C')\n",
    "elif score>=60:\n",
    "    print('D')\n",
    "else:\n",
    "    print('我没你这撒学生')"
   ]
  },
  {
   "cell_type": "markdown",
   "metadata": {},
   "source": [
    "## if语句其他\n",
    "- if语句可以嵌套使用，但不推荐\n",
    "- python没有switch-case语句"
   ]
  },
  {
   "cell_type": "markdown",
   "metadata": {},
   "source": [
    "# 循环语句\n",
    "- 重复执行某些固定动作或者处理基本固定事物\n",
    "- 分类：\n",
    "    - for循环\n",
    "    - while循环\n",
    "## for 循环\n",
    "- for循环\n",
    "       \n",
    "    for 变量 in 序列：\n",
    "        语句1\n",
    "        语句2\n",
    "        ······\n",
    "- 列表就是一列数字或者其他值，一般用中括号表示，例如['张三'，'李四'，'王五']\n",
    "- for 循环中变量表示一般用i k m n 或者indx idx item之类的，如果变量名称不重要，可以用_代替"
   ]
  },
  {
   "cell_type": "code",
   "execution_count": 4,
   "metadata": {},
   "outputs": [
    {
     "name": "stdout",
     "output_type": "stream",
     "text": [
      "张三\n",
      "李四\n",
      "王五\n"
     ]
    }
   ],
   "source": [
    "#打印学生列表姓名\n",
    "for name in ['张三','李四','王五']:\n",
    "    print(name)"
   ]
  },
  {
   "cell_type": "code",
   "execution_count": 5,
   "metadata": {},
   "outputs": [
    {
     "name": "stdout",
     "output_type": "stream",
     "text": [
      "张三\n",
      "你不是我要找的同学\n",
      "李四\n",
      "你不是我要找的同学\n",
      "王五\n",
      "你不是我要找的同学\n",
      "二狗子\n",
      "二狗子你变了\n"
     ]
    }
   ],
   "source": [
    "#打印学生列表姓名\n",
    "for name in ['张三','李四','王五','二狗子']:\n",
    "    print(name)\n",
    "    if name=='二狗子':\n",
    "        print('{0}你变了'.format(name))\n",
    "    else:\n",
    "        print('你不是我要找的同学')\n",
    " "
   ]
  },
  {
   "cell_type": "markdown",
   "metadata": {},
   "source": [
    "## range介绍\n",
    "- 生成一个数字序列\n",
    "- 具体范围可以设定\n",
    "- 注意一般在python中，如果有表示数字范围的两个数，一般包含左边数字，不包含右边数字，randint是特例，它左右都包含\n",
    "- range函数在python2和python3中有严重区别"
   ]
  },
  {
   "cell_type": "code",
   "execution_count": 6,
   "metadata": {},
   "outputs": [
    {
     "name": "stdout",
     "output_type": "stream",
     "text": [
      "1\n",
      "2\n",
      "3\n",
      "4\n",
      "5\n",
      "6\n",
      "7\n",
      "8\n",
      "9\n"
     ]
    }
   ],
   "source": [
    "# 打印从1-10的数字\n",
    "for i in range(1,10):\n",
    "    print(i)"
   ]
  },
  {
   "cell_type": "markdown",
   "metadata": {},
   "source": [
    "## for-else语句\n",
    "- 当for循环结束的时候，执行else语句\n",
    "- else语句是可选语句"
   ]
  },
  {
   "cell_type": "markdown",
   "metadata": {},
   "source": [
    "## 循环之break,continue,pass\n",
    "- break：无条件结束整个循环，简称循环猝死\n",
    "- continue：无条件结束本次循环，重新进入下一轮\n",
    "- pass：表示路过，通常用于占位，没有跳过功能"
   ]
  },
  {
   "cell_type": "code",
   "execution_count": 12,
   "metadata": {},
   "outputs": [
    {
     "name": "stdout",
     "output_type": "stream",
     "text": [
      "1\n",
      "2\n",
      "3\n",
      "4\n",
      "5\n",
      "6\n",
      "7\n",
      "我找到了\n"
     ]
    }
   ],
   "source": [
    "#break\n",
    "#在1-10的数字中，寻找数字7，找到打印出来，其他的什么都不做\n",
    "for i in range(1,11):\n",
    "    if i==7:\n",
    "        print(i)\n",
    "        print('我找到了')\n",
    "        break\n",
    "    else:\n",
    "        print(i)"
   ]
  },
  {
   "cell_type": "code",
   "execution_count": 15,
   "metadata": {},
   "outputs": [
    {
     "name": "stdout",
     "output_type": "stream",
     "text": [
      "2是偶数\n",
      "4是偶数\n",
      "6是偶数\n",
      "8是偶数\n",
      "10是偶数\n"
     ]
    }
   ],
   "source": [
    "#contiune版本1\n",
    "#在1-10的数字中，寻找所有偶数，找到偶数后打印出来\n",
    "for i in range(1,11):\n",
    "    if i%2==1:\n",
    "        continue\n",
    "    else:\n",
    "        print(\"{0}是偶数\".format(i))"
   ]
  },
  {
   "cell_type": "code",
   "execution_count": 17,
   "metadata": {},
   "outputs": [
    {
     "name": "stdout",
     "output_type": "stream",
     "text": [
      "2是偶数\n",
      "4是偶数\n",
      "6是偶数\n",
      "8是偶数\n",
      "10是偶数\n"
     ]
    }
   ],
   "source": [
    "#contiune版本2\n",
    "#在1-10的数字中，寻找所有偶数，找到偶数后打印出来\n",
    "for i in range(1,11):\n",
    "    if i%2==0:\n",
    "        print(\"{0}是偶数\".format(i))"
   ]
  }
 ],
 "metadata": {
  "kernelspec": {
   "display_name": "Python 3",
   "language": "python",
   "name": "python3"
  },
  "language_info": {
   "codemirror_mode": {
    "name": "ipython",
    "version": 3
   },
   "file_extension": ".py",
   "mimetype": "text/x-python",
   "name": "python",
   "nbconvert_exporter": "python",
   "pygments_lexer": "ipython3",
   "version": "3.7.0"
  }
 },
 "nbformat": 4,
 "nbformat_minor": 2
}
