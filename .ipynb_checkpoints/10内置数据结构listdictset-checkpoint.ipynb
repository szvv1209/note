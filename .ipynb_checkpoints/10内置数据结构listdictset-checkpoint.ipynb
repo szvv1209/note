{
 "cells": [
  {
   "cell_type": "markdown",
   "metadata": {},
   "source": [
    "# 关于元祖的函数\n",
    "- 以下函数对List基本适用"
   ]
  },
  {
   "cell_type": "code",
   "execution_count": 2,
   "metadata": {},
   "outputs": [
    {
     "name": "stdout",
     "output_type": "stream",
     "text": [
      "5\n"
     ]
    }
   ],
   "source": [
    "# len:获取元祖长度\n",
    "t=(1,2,3,4,5)\n",
    "print(len(t))"
   ]
  },
  {
   "cell_type": "code",
   "execution_count": 3,
   "metadata": {},
   "outputs": [
    {
     "name": "stdout",
     "output_type": "stream",
     "text": [
      "5\n",
      "1\n"
     ]
    }
   ],
   "source": [
    "# max min:最大最小\n",
    "#如果元祖中有多个最大最小值，则实际打印哪个？（第一个）\n",
    "print(max(t))\n",
    "print(min(t))"
   ]
  },
  {
   "cell_type": "code",
   "execution_count": 5,
   "metadata": {},
   "outputs": [
    {
     "name": "stdout",
     "output_type": "stream",
     "text": [
      "(1, 2, 3, 4, 5, 6)\n",
      "()\n"
     ]
    }
   ],
   "source": [
    "# tuple创建或者转化元祖\n",
    "l=[1,2,3,4,5,6]\n",
    "t=tuple(l)\n",
    "print(t)\n",
    "t=tuple()\n",
    "print(t)"
   ]
  },
  {
   "cell_type": "markdown",
   "metadata": {},
   "source": [
    "# 元祖的函数\n",
    "- 基本跟list通用"
   ]
  },
  {
   "cell_type": "code",
   "execution_count": 6,
   "metadata": {},
   "outputs": [
    {
     "name": "stdout",
     "output_type": "stream",
     "text": [
      "2\n"
     ]
    }
   ],
   "source": [
    "#count:统计指定数据在元祖中出现的次数\n",
    "t=(1,2,3,4,3,5,6,4)\n",
    "print(t.count(3))"
   ]
  },
  {
   "cell_type": "code",
   "execution_count": 8,
   "metadata": {},
   "outputs": [
    {
     "name": "stdout",
     "output_type": "stream",
     "text": [
      "6\n",
      "2\n"
     ]
    }
   ],
   "source": [
    "#index:求指定元素在元祖中的指定位置\n",
    "print(t.index(6))\n",
    "print(t.index(3))\n",
    "\n",
    "#如果需要查找的数据是多个，返回的是第一次出现的位置"
   ]
  },
  {
   "cell_type": "markdown",
   "metadata": {},
   "source": [
    "# 元祖变量交换法\n",
    "- 两个变量交换值"
   ]
  },
  {
   "cell_type": "code",
   "execution_count": 9,
   "metadata": {},
   "outputs": [
    {
     "name": "stdout",
     "output_type": "stream",
     "text": [
      "1\n",
      "3\n",
      "******************************\n",
      "3\n",
      "1\n",
      "******************************\n",
      "1\n",
      "3\n"
     ]
    }
   ],
   "source": [
    "# 两个变量交换值\n",
    "a=1\n",
    "b=3\n",
    "print(a)\n",
    "print(b)\n",
    "print(\"*\"*30)\n",
    "\n",
    "#java程序员会这么写\n",
    "c=a\n",
    "a=b\n",
    "b=c\n",
    "print(a)\n",
    "print(b)\n",
    "print(\"*\"*30)\n",
    "\n",
    "#python的写法：\n",
    "a,b=b,a\n",
    "print(a)\n",
    "print(b)"
   ]
  },
  {
   "cell_type": "markdown",
   "metadata": {},
   "source": [
    "# 集合set\n",
    "- 集合是高中数学中的一个概念\n",
    "- 一堆确定的无序的唯一的数据，集合中每一个数据成为一个元素（无序，不重复）"
   ]
  },
  {
   "cell_type": "code",
   "execution_count": 11,
   "metadata": {},
   "outputs": [
    {
     "name": "stdout",
     "output_type": "stream",
     "text": [
      "<class 'set'>\n",
      "set()\n",
      "<class 'set'>\n",
      "{1, 2, 3}\n"
     ]
    }
   ],
   "source": [
    "#集合的定义\n",
    "s=set()\n",
    "print(type(s))\n",
    "print(s)\n",
    "\n",
    "#如果用大括号，则大括号内一定要有值，否则定义的是dict类型\n",
    "s={1,2,3}\n",
    "print(type(s))\n",
    "print(s)"
   ]
  },
  {
   "cell_type": "code",
   "execution_count": 12,
   "metadata": {},
   "outputs": [
    {
     "name": "stdout",
     "output_type": "stream",
     "text": [
      "<class 'dict'>\n",
      "{}\n"
     ]
    }
   ],
   "source": [
    "# 如果只是用一个大括号定义，则定义的是dict类型\n",
    "d={}\n",
    "print(type(d))\n",
    "print(d)"
   ]
  },
  {
   "cell_type": "markdown",
   "metadata": {},
   "source": [
    "# 集合的特征\n",
    "- 集合内数据无序，即无法使用索引和分片\n",
    "- 集合内数据具有唯一性，可以用来排除重复数据\n",
    "- 集合内的数据：str,int,float,tuple,冰冻集合等，即内部只能放置可哈希数据"
   ]
  },
  {
   "cell_type": "markdown",
   "metadata": {},
   "source": [
    "## 集合序列操作"
   ]
  },
  {
   "cell_type": "code",
   "execution_count": 14,
   "metadata": {},
   "outputs": [
    {
     "name": "stdout",
     "output_type": "stream",
     "text": [
      "{'i', 1, 3, 'like', 'food'}\n",
      "no\n"
     ]
    }
   ],
   "source": [
    "# 成员检测\n",
    "# in  not in\n",
    "s={1,3,\"i\",\"like\",\"food\"}\n",
    "print(s)\n",
    "if \"love\" in s:\n",
    "    print(\"yes\")\n",
    "else:\n",
    "    print(\"no\")"
   ]
  },
  {
   "cell_type": "markdown",
   "metadata": {},
   "source": [
    "# 集合遍历操作"
   ]
  },
  {
   "cell_type": "code",
   "execution_count": 16,
   "metadata": {},
   "outputs": [
    {
     "name": "stdout",
     "output_type": "stream",
     "text": [
      "i  3  4  like  food  "
     ]
    }
   ],
   "source": [
    "# for循环\n",
    "s={4,3,\"i\",\"like\",\"food\"}\n",
    "for i in s:\n",
    "    print(i,end=\"  \")"
   ]
  },
  {
   "cell_type": "code",
   "execution_count": 20,
   "metadata": {},
   "outputs": [
    {
     "name": "stdout",
     "output_type": "stream",
     "text": [
      "i -- like -- food\n",
      "4 -- 5 -- 6\n",
      "1 -- 2 -- 3\n",
      "('i', 'like', 'food')\n",
      "(4, 5, 6)\n",
      "(1, 2, 3)\n"
     ]
    }
   ],
   "source": [
    "# 带有元祖的集合遍历\n",
    "s={(1,2,3),(\"i\",\"like\",\"food\"),(4,5,6)}\n",
    "for k,m,n in s:\n",
    "    print(k,\"--\",m,\"--\",n)\n",
    "    \n",
    "for k in s:\n",
    "    print(k)"
   ]
  },
  {
   "cell_type": "markdown",
   "metadata": {},
   "source": [
    "# 集合的内涵"
   ]
  },
  {
   "cell_type": "code",
   "execution_count": 23,
   "metadata": {},
   "outputs": [
    {
     "name": "stdout",
     "output_type": "stream",
     "text": [
      "{1, 2, 3, 4, 5, 6, 234, 23, 345}\n",
      "{1, 2, 3, 4, 5, 6, 234, 23, 345}\n"
     ]
    }
   ],
   "source": [
    "#普通集合内涵\n",
    "#以下集合在初始化后，自动过滤掉重复的元素\n",
    "s={23,234,345,3,4,5,4,1,2,3,5,6,2}\n",
    "print(s)\n",
    "\n",
    "ss={i for i in s}\n",
    "print(ss)"
   ]
  },
  {
   "cell_type": "code",
   "execution_count": 25,
   "metadata": {},
   "outputs": [
    {
     "name": "stdout",
     "output_type": "stream",
     "text": [
      "{2, 234, 4, 6}\n"
     ]
    }
   ],
   "source": [
    "#带条件的集合内涵\n",
    "sss={i for i in s if i%2==0}\n",
    "print(sss)"
   ]
  },
  {
   "cell_type": "code",
   "execution_count": 28,
   "metadata": {},
   "outputs": [
    {
     "name": "stdout",
     "output_type": "stream",
     "text": [
      "{'i', 'shopping', 'likelike', 'likelikelike', 'ii', 'iii', 'like', 'shoppingshopping', 'shoppingshoppingshopping'}\n",
      "{'likelike', 'shoppingshopping', 'ii'}\n"
     ]
    }
   ],
   "source": [
    "#多循环的集合内涵\n",
    "s1={1,2,3}\n",
    "s2={\"i\",\"like\",\"shopping\"}\n",
    "s={m*n for m in s1 for n in s2}\n",
    "print(s)\n",
    "\n",
    "s={m*n for m in s1 for n in s2 if m==2}\n",
    "print(s)"
   ]
  },
  {
   "cell_type": "markdown",
   "metadata": {},
   "source": [
    "# 集合函数/关于集合的函数"
   ]
  },
  {
   "cell_type": "code",
   "execution_count": 30,
   "metadata": {},
   "outputs": [
    {
     "name": "stdout",
     "output_type": "stream",
     "text": [
      "8\n",
      "45\n",
      "2\n"
     ]
    }
   ],
   "source": [
    "# len,max,min:跟其他基本函数一致\n",
    "s={12,13,2,24,34,6,7,45,45,12}\n",
    "print(len(s))\n",
    "print(max(s))\n",
    "print(min(s))"
   ]
  },
  {
   "cell_type": "code",
   "execution_count": 31,
   "metadata": {},
   "outputs": [
    {
     "name": "stdout",
     "output_type": "stream",
     "text": [
      "{1, 2, 3, 4, 56}\n"
     ]
    }
   ],
   "source": [
    "# set生成一个集合\n",
    "l=[1,2,3,4,3,56,4,3,2,1]\n",
    "print(set(l))"
   ]
  },
  {
   "cell_type": "code",
   "execution_count": 32,
   "metadata": {},
   "outputs": [
    {
     "name": "stdout",
     "output_type": "stream",
     "text": [
      "{1, 234}\n"
     ]
    }
   ],
   "source": [
    "# add:向集合内添加元素（集合中无序的添加，list中append是在末尾追加，insert是有序插入）\n",
    "s={1}\n",
    "s.add(234)\n",
    "print(s)"
   ]
  },
  {
   "cell_type": "code",
   "execution_count": 33,
   "metadata": {},
   "outputs": [
    {
     "name": "stdout",
     "output_type": "stream",
     "text": [
      "1291075047496\n",
      "{1, 2, 3, 4}\n",
      "1291075047496\n",
      "set()\n"
     ]
    }
   ],
   "source": [
    "#clear 原地清空元素，但是集合还是那个集合\n",
    "s={1,2,3,4}\n",
    "print(id(s))\n",
    "print(s)\n",
    "\n",
    "s.clear()\n",
    "print(id(s))\n",
    "print(s)"
   ]
  },
  {
   "cell_type": "code",
   "execution_count": 36,
   "metadata": {},
   "outputs": [
    {
     "name": "stdout",
     "output_type": "stream",
     "text": [
      "{1, 2, 3, 5, 23}\n",
      "{2, 3, 5, 23}\n",
      "******************************\n",
      "{2, 3, 5, 23}\n"
     ]
    },
    {
     "ename": "KeyError",
     "evalue": "100",
     "output_type": "error",
     "traceback": [
      "\u001b[1;31m---------------------------------------------------------------------------\u001b[0m",
      "\u001b[1;31mKeyError\u001b[0m                                  Traceback (most recent call last)",
      "\u001b[1;32m<ipython-input-36-9c375054f64f>\u001b[0m in \u001b[0;36m<module>\u001b[1;34m()\u001b[0m\n\u001b[0;32m     11\u001b[0m \u001b[0ms\u001b[0m\u001b[1;33m.\u001b[0m\u001b[0mdiscard\u001b[0m\u001b[1;33m(\u001b[0m\u001b[1;36m100\u001b[0m\u001b[1;33m)\u001b[0m\u001b[1;33m\u001b[0m\u001b[0m\n\u001b[0;32m     12\u001b[0m \u001b[0mprint\u001b[0m\u001b[1;33m(\u001b[0m\u001b[0ms\u001b[0m\u001b[1;33m)\u001b[0m\u001b[1;33m\u001b[0m\u001b[0m\n\u001b[1;32m---> 13\u001b[1;33m \u001b[0ms\u001b[0m\u001b[1;33m.\u001b[0m\u001b[0mremove\u001b[0m\u001b[1;33m(\u001b[0m\u001b[1;36m100\u001b[0m\u001b[1;33m)\u001b[0m\u001b[1;33m\u001b[0m\u001b[0m\n\u001b[0m\u001b[0;32m     14\u001b[0m \u001b[0mprint\u001b[0m\u001b[1;33m(\u001b[0m\u001b[0ms\u001b[0m\u001b[1;33m)\u001b[0m\u001b[1;33m\u001b[0m\u001b[0m\n",
      "\u001b[1;31mKeyError\u001b[0m: 100"
     ]
    }
   ],
   "source": [
    "#copy:拷贝\n",
    "#remove:移除指定的值，直接改变原有的值，如果要删除的值不存在，报错\n",
    "#discard:移除集合中指定的值，跟remove一样，但是如果要删除的话，不报错\n",
    "s={23,3,4,5,1,2,3}\n",
    "s.remove(4)\n",
    "print(s)\n",
    "s.discard(1)\n",
    "print(s)\n",
    "\n",
    "print(\"*\"*30)\n",
    "s.discard(100)\n",
    "print(s)\n",
    "s.remove(100)\n",
    "print(s)\n",
    "#为啥remove不存在的值会报keyerror"
   ]
  },
  {
   "cell_type": "code",
   "execution_count": 37,
   "metadata": {},
   "outputs": [
    {
     "name": "stdout",
     "output_type": "stream",
     "text": [
      "1\n",
      "{2, 3, 4, 5, 6, 7}\n"
     ]
    }
   ],
   "source": [
    "# pop随机移除一个元素\n",
    "s={1,2,3,4,5,6,7}\n",
    "d=s.pop()\n",
    "print(d)\n",
    "print(s)"
   ]
  },
  {
   "cell_type": "markdown",
   "metadata": {},
   "source": [
    "### intersection:交集\n",
    "### difference:差集\n",
    "### union:并集\n",
    "### issubset:检查一个集合是否是另一个集合的子集\n",
    "### issuperset:检查一个集合是否是另一个集合的超集"
   ]
  },
  {
   "cell_type": "code",
   "execution_count": 42,
   "metadata": {},
   "outputs": [
    {
     "name": "stdout",
     "output_type": "stream",
     "text": [
      "{5, 6}\n",
      "{1, 2, 3, 4}\n",
      "False\n",
      "{1, 2, 3, 4, 5, 6, 7, 8, 9}\n"
     ]
    }
   ],
   "source": [
    "s1={1,2,3,4,5,6}\n",
    "s2={5,6,7,8,9}\n",
    "\n",
    "s_1=s1.intersection(s2)\n",
    "print(s_1)\n",
    "\n",
    "s_2=s1.difference(s2)\n",
    "print(s_2)\n",
    "\n",
    "s_3=s1.issubset(s2)\n",
    "print(s_3)\n",
    "\n",
    "s_4=s1.union(s2)\n",
    "print(s_4)"
   ]
  },
  {
   "cell_type": "markdown",
   "metadata": {},
   "source": [
    "# 集合的数学操作"
   ]
  },
  {
   "cell_type": "code",
   "execution_count": 44,
   "metadata": {},
   "outputs": [
    {
     "name": "stdout",
     "output_type": "stream",
     "text": [
      "{1, 2, 3, 4}\n"
     ]
    }
   ],
   "source": [
    "s1={1,2,3,4,5,6}\n",
    "s2={5,6,7,8,9}\n",
    "\n",
    "print(s1-s2)\n",
    "#减号可以，加号不可以，用union"
   ]
  },
  {
   "cell_type": "markdown",
   "metadata": {},
   "source": [
    "# frozen set:冰冻集合\n",
    "- 就是不能修改的集合\n",
    "- frozenset是一种特殊的集合"
   ]
  },
  {
   "cell_type": "code",
   "execution_count": 46,
   "metadata": {},
   "outputs": [
    {
     "name": "stdout",
     "output_type": "stream",
     "text": [
      "<class 'frozenset'>\n",
      "frozenset()\n"
     ]
    }
   ],
   "source": [
    "#创建\n",
    "s=frozenset()\n",
    "print(type(s))\n",
    "print(s)"
   ]
  },
  {
   "cell_type": "markdown",
   "metadata": {},
   "source": [
    "# dict 字典\n",
    "- 字典是一种组合数据，没有顺序的组合数据，数据以键值对的形式出现"
   ]
  },
  {
   "cell_type": "code",
   "execution_count": 57,
   "metadata": {},
   "outputs": [
    {
     "name": "stdout",
     "output_type": "stream",
     "text": [
      "{}\n",
      "{}\n",
      "{'one': 1, 'two': 2, 'three': 3}\n",
      "{'one': 1, 'two': 2, 'three': 3}\n",
      "{'one': 1, 'two': 2, 'three': 3}\n",
      "{'one': 1, 'two': 2, 'three': 3}\n"
     ]
    }
   ],
   "source": [
    "# 字典的创建\n",
    "d={}\n",
    "print(d)\n",
    "\n",
    "d=dict()\n",
    "print(d)\n",
    "\n",
    "#创建有值的字典,每一组数据用冒号隔开，每一堆键值用逗号隔开\n",
    "d={\"one\":1,\"two\":2,\"three\":3}\n",
    "print(d)\n",
    "\n",
    "#用dict创建有值的字典1（小括号里面要有大括号）\n",
    "d=dict({\"one\":1,\"two\":2,\"three\":3})\n",
    "print(d)\n",
    "\n",
    "#用dict创建有值的字典2（冒号换等号，小括号内不需要大括号）\n",
    "#利用关键字参数\n",
    "d=dict(one=1,two=2,three=3)\n",
    "print(d)\n",
    "\n",
    "#用元祖创建\n",
    "d=dict([(\"one\",1),(\"two\",2),(\"three\",3)])\n",
    "print(d)"
   ]
  },
  {
   "cell_type": "markdown",
   "metadata": {},
   "source": [
    "# 字典的特征\n",
    "- 字典是序列类型，但是是无序序列，所以没有分片和索引\n",
    "- 字典中的数据，每个都由键值对组成，及KV对\n",
    "    - key:必须是可哈希的值，比如int，string，float，tuple,但是list,set,dict不行\n",
    "    - value:任何值"
   ]
  },
  {
   "cell_type": "markdown",
   "metadata": {},
   "source": [
    "## 字典常见操作"
   ]
  },
  {
   "cell_type": "code",
   "execution_count": 61,
   "metadata": {},
   "outputs": [
    {
     "name": "stdout",
     "output_type": "stream",
     "text": [
      "1\n",
      "{'one': 'yi', 'two': 2, 'three': 3}\n"
     ]
    }
   ],
   "source": [
    "# 访问数据\n",
    "d={\"one\":1,\"two\":2,\"three\":3}\n",
    "#注意访问格式：中括号内是键值\n",
    "print(d[\"one\"])\n",
    "\n",
    "d['one']=\"yi\"\n",
    "print(d)"
   ]
  },
  {
   "cell_type": "code",
   "execution_count": 62,
   "metadata": {},
   "outputs": [
    {
     "name": "stdout",
     "output_type": "stream",
     "text": [
      "{'two': 2, 'three': 3}\n"
     ]
    }
   ],
   "source": [
    "# 删除\n",
    "# del\n",
    "del d[\"one\"]\n",
    "print(d)"
   ]
  },
  {
   "cell_type": "code",
   "execution_count": 67,
   "metadata": {},
   "outputs": [
    {
     "name": "stdout",
     "output_type": "stream",
     "text": [
      "key\n"
     ]
    }
   ],
   "source": [
    "# 成员检测：in  not in\n",
    "# 检测的是Key的内容\n",
    "d={\"one\":1,\"two\":2,\"three\":3}\n",
    "if 2 in d:\n",
    "    print(\"value\")\n",
    "if \"two\" in d:\n",
    "    print(\"key\")\n",
    "if (\"two\",2) in d:\n",
    "    print(\"kv\")"
   ]
  },
  {
   "cell_type": "code",
   "execution_count": 71,
   "metadata": {},
   "outputs": [
    {
     "name": "stdout",
     "output_type": "stream",
     "text": [
      "one 1\n",
      "two 2\n",
      "three 3\n",
      "one 1\n",
      "two 2\n",
      "three 3\n",
      "1\n",
      "2\n",
      "3\n",
      "one -- 1\n",
      "two -- 2\n",
      "three -- 3\n"
     ]
    }
   ],
   "source": [
    "# 遍历在python2和python3中区别大，代码不通用\n",
    "# 按key来使用for循环\n",
    "d={\"one\":1,\"two\":2,\"three\":3}\n",
    "\n",
    "#使用for循环，按key值访问\n",
    "for k in d:\n",
    "    print(k,d[k])\n",
    "    \n",
    "#上述代码可以改写成如下：\n",
    "for k in d.keys():\n",
    "    print(k,d[k])\n",
    "\n",
    "#只访问字典的值\n",
    "for v in d.values():\n",
    "    print(v)\n",
    "\n",
    "#注意一下特殊用法：items\n",
    "for k,v in d.items():\n",
    "    print(k,\"--\",v)"
   ]
  },
  {
   "cell_type": "markdown",
   "metadata": {},
   "source": [
    "## 字典生成式"
   ]
  },
  {
   "cell_type": "code",
   "execution_count": 74,
   "metadata": {},
   "outputs": [
    {
     "name": "stdout",
     "output_type": "stream",
     "text": [
      "{'one': 1, 'two': 2, 'three': 3}\n",
      "{'two': 2}\n"
     ]
    }
   ],
   "source": [
    "d={\"one\":1,\"two\":2,\"three\":3}\n",
    "\n",
    "#常规字典生成式\n",
    "dd={k:v for k,v in d.items()}\n",
    "print(dd)\n",
    "\n",
    "#加限制条件的字典生成式\n",
    "ddd={k:v for k,v in d.items() if v%2==0}\n",
    "print(ddd)"
   ]
  },
  {
   "cell_type": "markdown",
   "metadata": {},
   "source": [
    "# 字典的相关函数"
   ]
  },
  {
   "cell_type": "code",
   "execution_count": 75,
   "metadata": {},
   "outputs": [
    {
     "name": "stdout",
     "output_type": "stream",
     "text": [
      "{'one': 1, 'two': 2, 'three': 3}\n"
     ]
    }
   ],
   "source": [
    "#通用函数：len,max,min,dict\n",
    "# *str(字典)，返回字典的字符串格式\n",
    "print(str(d))"
   ]
  },
  {
   "cell_type": "code",
   "execution_count": 81,
   "metadata": {},
   "outputs": [
    {
     "name": "stdout",
     "output_type": "stream",
     "text": [
      "{'one': 1, 'two': 2, 'three': 3}\n",
      "<class 'dict_items'>\n",
      "dict_items([('one', 1), ('two', 2), ('three', 3)])\n"
     ]
    }
   ],
   "source": [
    "# clear 清空字典\n",
    "# items 返回字典的键值对组成的元祖格式,一个可迭代的结构\n",
    "d={\"one\":1,\"two\":2,\"three\":3}\n",
    "print(d)\n",
    "i=d.items()\n",
    "print(type(i))\n",
    "print(i)"
   ]
  },
  {
   "cell_type": "code",
   "execution_count": 83,
   "metadata": {},
   "outputs": [
    {
     "name": "stdout",
     "output_type": "stream",
     "text": [
      "<class 'dict_keys'>\n",
      "dict_keys(['one', 'two', 'three'])\n"
     ]
    }
   ],
   "source": [
    "# keys:返回字典的键组成的结构，一个可迭代的结构\n",
    "k=d.keys()\n",
    "print(type(k))\n",
    "print(k)"
   ]
  },
  {
   "cell_type": "code",
   "execution_count": 84,
   "metadata": {},
   "outputs": [
    {
     "name": "stdout",
     "output_type": "stream",
     "text": [
      "<class 'dict_values'>\n",
      "dict_values([1, 2, 3])\n"
     ]
    }
   ],
   "source": [
    "# values:同理，一个可迭代的结构\n",
    "v=d.values()\n",
    "print(type(v))\n",
    "print(v)"
   ]
  },
  {
   "cell_type": "code",
   "execution_count": 89,
   "metadata": {},
   "outputs": [
    {
     "name": "stdout",
     "output_type": "stream",
     "text": [
      "1\n",
      "None\n",
      "1\n"
     ]
    },
    {
     "ename": "KeyError",
     "evalue": "'four'",
     "output_type": "error",
     "traceback": [
      "\u001b[1;31m---------------------------------------------------------------------------\u001b[0m",
      "\u001b[1;31mKeyError\u001b[0m                                  Traceback (most recent call last)",
      "\u001b[1;32m<ipython-input-89-8ae0634cf952>\u001b[0m in \u001b[0;36m<module>\u001b[1;34m()\u001b[0m\n\u001b[0;32m      4\u001b[0m \u001b[0mprint\u001b[0m\u001b[1;33m(\u001b[0m\u001b[0md\u001b[0m\u001b[1;33m.\u001b[0m\u001b[0mget\u001b[0m\u001b[1;33m(\u001b[0m\u001b[1;34m\"four\"\u001b[0m\u001b[1;33m)\u001b[0m\u001b[1;33m)\u001b[0m\u001b[1;33m\u001b[0m\u001b[0m\n\u001b[0;32m      5\u001b[0m \u001b[0mprint\u001b[0m\u001b[1;33m(\u001b[0m\u001b[0md\u001b[0m\u001b[1;33m[\u001b[0m\u001b[1;34m\"one\"\u001b[0m\u001b[1;33m]\u001b[0m\u001b[1;33m)\u001b[0m\u001b[1;33m\u001b[0m\u001b[0m\n\u001b[1;32m----> 6\u001b[1;33m \u001b[0mprint\u001b[0m\u001b[1;33m(\u001b[0m\u001b[0md\u001b[0m\u001b[1;33m[\u001b[0m\u001b[1;34m\"four\"\u001b[0m\u001b[1;33m]\u001b[0m\u001b[1;33m)\u001b[0m\u001b[1;33m\u001b[0m\u001b[0m\n\u001b[0m\u001b[0;32m      7\u001b[0m \u001b[1;31m#体会以上代码区别，get没报错\u001b[0m\u001b[1;33m\u001b[0m\u001b[1;33m\u001b[0m\u001b[0m\n\u001b[0;32m      8\u001b[0m \u001b[1;33m\u001b[0m\u001b[0m\n",
      "\u001b[1;31mKeyError\u001b[0m: 'four'"
     ]
    }
   ],
   "source": [
    "# get:根据定制键，返回相应的值，好处是，可以设置默认值\n",
    "d={\"one\":1,\"two\":2,\"three\":3}\n",
    "print(d.get(\"one\"))\n",
    "print(d.get(\"four\"))\n",
    "print(d[\"one\"])\n",
    "print(d[\"four\"])\n",
    "#体会以上代码区别，get没报错\n"
   ]
  },
  {
   "cell_type": "code",
   "execution_count": 91,
   "metadata": {},
   "outputs": [
    {
     "name": "stdout",
     "output_type": "stream",
     "text": [
      "2\n",
      "100\n"
     ]
    }
   ],
   "source": [
    "#get 默认值是None，可以设置,找到就找自己，找不到就返回设置的\n",
    "print(d.get(\"two\",100))\n",
    "print(d.get(\"four\",100))"
   ]
  },
  {
   "cell_type": "code",
   "execution_count": 92,
   "metadata": {},
   "outputs": [
    {
     "name": "stdout",
     "output_type": "stream",
     "text": [
      "{'一': 'hahaha', '二': 'hahaha', '三': 'hahaha'}\n"
     ]
    }
   ],
   "source": [
    "# fromkeys:使用指定的序列作为键，使用一个的值作为字典的所有键的值\n",
    "l=[\"一\",\"二\",\"三\"]\n",
    "#注意fromkeys两个参数的类型\n",
    "#注意fromkeys的调用主体\n",
    "d=dict.fromkeys(l,\"hahaha\")\n",
    "print(d)"
   ]
  },
  {
   "cell_type": "code",
   "execution_count": null,
   "metadata": {},
   "outputs": [],
   "source": []
  }
 ],
 "metadata": {
  "kernelspec": {
   "display_name": "Python 3",
   "language": "python",
   "name": "python3"
  },
  "language_info": {
   "codemirror_mode": {
    "name": "ipython",
    "version": 3
   },
   "file_extension": ".py",
   "mimetype": "text/x-python",
   "name": "python",
   "nbconvert_exporter": "python",
   "pygments_lexer": "ipython3",
   "version": "3.7.0"
  }
 },
 "nbformat": 4,
 "nbformat_minor": 2
}
