{
 "cells": [
  {
   "cell_type": "markdown",
   "metadata": {},
   "source": [
    "# 字符串\n",
    "- 转义字符\n",
    "- 格式化\n",
    "- 内建函数（后延）\n",
    "## 转义字符\n",
    "- 用一个特殊的方法表示出一系列不方便书写的内容，例如回车键，换行键，退格键\n",
    "- 借助反斜杠字符，一旦字符串后面出现反斜杠，则反斜杠后面一个或几个字符则不是原来的意思了，进行了转义\n",
    "- 在字符串中，一旦出现反斜杠\\要加倍小心，可能有转义字符出现\n",
    "- 不同系统对回车换行符有不同的表示\n",
    "      - windows: \\n\n",
    "      - linux: \\r\\n"
   ]
  },
  {
   "cell_type": "code",
   "execution_count": 5,
   "metadata": {},
   "outputs": [
    {
     "name": "stdout",
     "output_type": "stream",
     "text": [
      "let's go\n",
      "let's go\n",
      "c:\\user\n",
      "锄禾日当午\n",
      "汗滴禾下土\n"
     ]
    }
   ],
   "source": [
    "#如果想表示出let's go\n",
    "#1.使用嵌套引号，即外层使用双引号\n",
    "#2.使用转义字符\n",
    "a=\"let's go\"\n",
    "print(a)\n",
    "\n",
    "#\\'='\n",
    "b='let\\'s go'\n",
    "print(b)\n",
    "\n",
    "#\\\\=\\\n",
    "c='c:\\\\user'\n",
    "print(c)\n",
    "\n",
    "#回车换行符\\r\\n\n",
    "d=\"锄禾日当午\\r\\n汗滴禾下土\"\n",
    "print(d)"
   ]
  },
  {
   "cell_type": "markdown",
   "metadata": {},
   "source": [
    "## 字符串的格式化\n",
    "- 把字符串按照一定格式打印或者填充\n",
    "- 格式化有两种方法\n",
    "    - 利用百分号（%）\n",
    "    - 利用format函数\n",
    "### 利用%格式化\n",
    "- 在字符串中，利用%表示一个特殊的含义，表示对字符进行格式化\n",
    "- %d：此处应该放入一个整数\n",
    "- %s:表示此处应该放入一个字符串"
   ]
  },
  {
   "cell_type": "code",
   "execution_count": 7,
   "metadata": {},
   "outputs": [
    {
     "name": "stdout",
     "output_type": "stream",
     "text": [
      "I love %s\n",
      "I love 二狗子\n",
      "I am 18 years old\n",
      "I am vicky,I am 18 years old\n"
     ]
    }
   ],
   "source": [
    "a='I love %s'\n",
    "print(a)\n",
    "print(a%'二狗子')\n",
    "\n",
    "b='I am %d years old'\n",
    "print(b%18)\n",
    "\n",
    "c='I am %s,I am %d years old'\n",
    "#如果字符串中有占位符，有几个占位符必须用几个实际内容替代，或者一个都不用，否则会报错，typeerror:not enough arguments(参数) for format string\n",
    "#如果出现多个占位符，需要用括号括起来，否则只识别%后面的一个，还是会报以上错误\n",
    "print(c%(\"vicky\",18))"
   ]
  },
  {
   "cell_type": "markdown",
   "metadata": {},
   "source": [
    "### format函数格式化字符串\n",
    "- 推荐使用这种方法\n",
    "- 在使用上，以{}和：代替%，后面用format带参数完成\n",
    "- 出现多个可编号"
   ]
  },
  {
   "cell_type": "code",
   "execution_count": 10,
   "metadata": {},
   "outputs": [
    {
     "name": "stdout",
     "output_type": "stream",
     "text": [
      "i love二狗子\n",
      "yes,i am 20 years old,i love 二狗子,and he is 20 years old too\n"
     ]
    }
   ],
   "source": [
    "a='i love{}'.format('二狗子')\n",
    "print(a)\n",
    "#多个可编号\n",
    "b='yes,i am {1} years old,i love {0},and he is {1} years old too'.format('二狗子',20)\n",
    "print(b)"
   ]
  },
  {
   "cell_type": "markdown",
   "metadata": {},
   "source": [
    "## None\n",
    "- 表示什么都没有\n",
    "- 如果函数没有返回值，可以返回None\n",
    "- 用来占位置\n",
    "- 用来解除变量的绑定"
   ]
  },
  {
   "cell_type": "markdown",
   "metadata": {},
   "source": [
    "# 表达式\n",
    "- 由一个或者几个数字或者变量和运算符组成的一行代码\n",
    "- 通常会返回一个结果\n",
    "\n",
    "# 运算符\n",
    "- 由一个以上的值经过变化得到新的值的过程叫运算\n",
    "- 用于运算的符号叫运算符\n",
    "- 运算符分类：\n",
    "     - 算数运算符\n",
    "     - 比较或者关系运算符\n",
    "     - 赋值运算符\n",
    "     - 逻辑运算符\n",
    "     - 位运算\n",
    "     - 成员运算符\n",
    "     - 身份运算符\n",
    "## 算数运算符\n",
    "- 进行算数运算的符号\n",
    "- +，-和正常算数运算符一样\n",
    "- 乘号用(*)，除号用（/）,在python2.x 和python3.x中，除法的结果可能不一致，2里面取整，3里面会保留小数，跟数学意义一样，以3为准\n",
    "- 取余数运算用%；取商数用//也叫取整\n",
    "- **表示幂运算\n",
    "- python里面没有自增自减运算符"
   ]
  },
  {
   "cell_type": "code",
   "execution_count": 14,
   "metadata": {},
   "outputs": [
    {
     "name": "stdout",
     "output_type": "stream",
     "text": [
      "1\n",
      "2\n",
      "6561\n"
     ]
    }
   ],
   "source": [
    "#两个数相除应该有余数和商数\n",
    "# %只得到余数,//只得到商数\n",
    "a=9%4\n",
    "b=9//4\n",
    "print(a)\n",
    "print(b)\n",
    "# ** 指数运算\n",
    "c=9**4\n",
    "print(c)"
   ]
  },
  {
   "cell_type": "markdown",
   "metadata": {},
   "source": [
    "## 比较运算符\n",
    "- 对两个变量或者值进行比较的运算符\n",
    "- 比较的结果是布尔值，即Ture或False\n",
    "- ==等于；！=不等于；>大于；<小于；>=大于等于；<=小于等于。"
   ]
  },
  {
   "cell_type": "code",
   "execution_count": 16,
   "metadata": {},
   "outputs": [
    {
     "name": "stdout",
     "output_type": "stream",
     "text": [
      "False\n",
      "True\n"
     ]
    }
   ],
   "source": [
    "a=3**4\n",
    "#下面表达式执行的顺序是：1计算a==80,2把结果放入b中\n",
    "b=a==80\n",
    "print(b)\n",
    "\n",
    "#！=不等于\n",
    "print(9!=8)"
   ]
  },
  {
   "cell_type": "markdown",
   "metadata": {},
   "source": [
    "## 赋值运算符\n",
    "- = 赋值；\n",
    "- +=是缩写;所有数学运算符都有缩写形式-=；*=；/=;//=;%=;**=都是缩写形式"
   ]
  },
  {
   "cell_type": "code",
   "execution_count": 17,
   "metadata": {},
   "outputs": [
    {
     "name": "stdout",
     "output_type": "stream",
     "text": [
      "7\n"
     ]
    }
   ],
   "source": [
    "a=0\n",
    "a+=7#是a=a+7的缩写\n",
    "print(a)"
   ]
  },
  {
   "cell_type": "markdown",
   "metadata": {},
   "source": [
    "## 逻辑运算符\n",
    "- 对布尔值进行运算的符号\n",
    "- and 逻辑与\n",
    "- or 逻辑或\n",
    "- not 逻辑非\n",
    "- python中逻辑运算没有异或运算\n",
    "- 运算规则：\n",
    "     - and看做乘法，or看做加法\n",
    "     - True看做1，False看做0\n",
    "     - 则逻辑运算就能转换成整数数学运算\n",
    "     - 最后结果如果为0则是False，否则为True\n",
    "- 逻辑运算符的短路问题\n",
    "     - 逻辑运算式，按照运算顺序计算，一旦能够确定整个式子未来的值，则不再进行计算，直接返回"
   ]
  },
  {
   "cell_type": "code",
   "execution_count": 18,
   "metadata": {},
   "outputs": [
    {
     "name": "stdout",
     "output_type": "stream",
     "text": [
      "True\n"
     ]
    }
   ],
   "source": [
    "#逻辑运算符案例\n",
    "a=True\n",
    "b=False\n",
    "c=True\n",
    "#以下式子等价于d=1*0+1=1\n",
    "d=a and b or c\n",
    "print(d)"
   ]
  },
  {
   "cell_type": "code",
   "execution_count": 4,
   "metadata": {},
   "outputs": [
    {
     "name": "stdout",
     "output_type": "stream",
     "text": [
      "True\n",
      "False\n"
     ]
    }
   ],
   "source": [
    "#逻辑运算短路示例\n",
    "#下面的逻辑表达式，a的值一定为True,则运行到or的时候，整个表达式不再向下计算\n",
    "a=True or XXXXXXX\n",
    "print(a)\n",
    "#注意xxxxxxxxx的表达式在括号内，要先计算括号内的\n",
    "b= False and (xxxxxxxxxxxx)\n",
    "print(b)\n",
    "#如果xxxxxxxx中包含赋值表达式，则结果很难预期\n",
    "#代码示例（伪代码）\n",
    "d=9\n",
    "c=a or d=9 and 6\n",
    "#假定上面表达式没有语法错误，则b最终的值是0，而不是9"
   ]
  },
  {
   "cell_type": "markdown",
   "metadata": {},
   "source": [
    "## 成员运算符\n",
    "- 用来检测某一个变量是否是另一变量的成员\n",
    "- in\n",
    "- not in\n"
   ]
  },
  {
   "cell_type": "code",
   "execution_count": 6,
   "metadata": {},
   "outputs": [
    {
     "name": "stdout",
     "output_type": "stream",
     "text": [
      "False\n",
      "True\n"
     ]
    }
   ],
   "source": [
    "l=[1,2,3,4,5]\n",
    "a=7\n",
    "b=a in l\n",
    "c=a not in l\n",
    "print(b)\n",
    "print(c)"
   ]
  },
  {
   "cell_type": "markdown",
   "metadata": {},
   "source": [
    "## 身份运算符\n",
    "- is：用来检测两个变量是否是同一个变量（但不意味着是同样的值）\n",
    "     - 语法是：var1 is var2\n",
    "- is not :两个变量不是同一个变量"
   ]
  },
  {
   "cell_type": "code",
   "execution_count": 7,
   "metadata": {},
   "outputs": [
    {
     "name": "stdout",
     "output_type": "stream",
     "text": [
      "True\n",
      "False\n"
     ]
    }
   ],
   "source": [
    "a=9\n",
    "b=9\n",
    "print(a is b)\n",
    "a='i love you'\n",
    "b='i love you'\n",
    "print(a is b)"
   ]
  },
  {
   "cell_type": "markdown",
   "metadata": {},
   "source": [
    "# 运算符的优先级问题\n",
    "- 永远记住，括号具有最高优先级\n",
    "- 优先级表格：\n",
    "      ** 指数 最高优先级\n",
    "      ~ + - 按位翻转，一元加号和减号（最后两个的方法名为 +@和-@）\n",
    "      * / % // 乘，除，取模，和取整除\n",
    "      + - 加法和减法\n",
    "      》 《 右移左移运算符\n",
    "      & 位 'AND'\n",
    "      ^ | 位运算符\n",
    "      < <= >= > 比较运算符\n",
    "      <> == != 等于运算符\n",
    "      = %= /= //= -= += *= **= 赋值运算符\n",
    "      is   is not 身份运算符\n",
    "      in   not in 成员运算符\n",
    "      not or and 逻辑运算符"
   ]
  },
  {
   "cell_type": "markdown",
   "metadata": {},
   "source": []
  }
 ],
 "metadata": {
  "kernelspec": {
   "display_name": "Python 3",
   "language": "python",
   "name": "python3"
  },
  "language_info": {
   "codemirror_mode": {
    "name": "ipython",
    "version": 3
   },
   "file_extension": ".py",
   "mimetype": "text/x-python",
   "name": "python",
   "nbconvert_exporter": "python",
   "pygments_lexer": "ipython3",
   "version": "3.7.0"
  }
 },
 "nbformat": 4,
 "nbformat_minor": 2
}
