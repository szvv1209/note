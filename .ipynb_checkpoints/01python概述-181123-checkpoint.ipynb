{
 "cells": [
  {
   "cell_type": "markdown",
   "metadata": {},
   "source": [
    "# python基础\n",
    "## python概述\n",
    "- 计算机语言概述\n",
    "    - 语言：交流的工具，沟通媒介\n",
    "    - 计算机语言：人跟计算机交流的媒介，翻译官\n",
    "    - python是计算机语言的一种\n",
    "    - python变成语言\n",
    "        - 代码：人类语言，通过代码命令计算机，跟机器交流\n",
    "        - python解释器：担任翻译工作\n",
    "        - 流程：\n",
    "           - 写代码\n",
    "           - 执行：由翻译官（python解释器）把命令（code）翻译给机器，同时把机器结果翻译给我们\n",
    "    - python读音问题\n",
    "    - python简史：\n",
    "         - 1989年：\n",
    "         - 2008年：pyhton3.0诞生\n",
    "         - 2014年：宣布2.7支持到2020年\n",
    "         - 2017年：AI元年，python崛起\n",
    "    - python特点\n",
    "         - 速度问题\n",
    "         - 跟其他语言的选择问题\n",
    "    - python应用领域\n",
    "         - 全能\n",
    "         - 设计哲学：平衡发展，样样通，简洁明了\n",
    "    - python为什么火\n",
    "         - 会不会持续火\n",
    "    - 环境问题\n",
    "         - anaconda+pycharm\n",
    "         - python3.6\n",
    "    - 环境\n",
    "         - 学习环境\n",
    "              - 直播课\n",
    "              - 讲义+代码：github\n",
    "              - 教科书：gitbook\n",
    "         - 工作环境\n",
    "              - 环境安装\n",
    "                 - http://www.cnblogs.com/zhouzhishuai/p/8401103.html\n",
    "         - 操作系统\n",
    "              - windows\n",
    "              - linux\n",
    "              - mac0x\n",
    "              - 标准系统：windows下装虚拟机，虚拟机安装ubuntu\n",
    "         - 软件环境\n",
    "              - 不使用python解释器\n",
    "              - 使用anaconda3+pycharm代替\n",
    "   - python执行方式\n",
    "        - 本质上是一堆命令的集合\n",
    "        - 执行过程是逐行执行，遇到问题即刻终止\n",
    "        - 打印hello world"
   ]
  },
  {
   "cell_type": "code",
   "execution_count": 2,
   "metadata": {},
   "outputs": [
    {
     "name": "stdout",
     "output_type": "stream",
     "text": [
      "hello world\n",
      "1234567\n"
     ]
    }
   ],
   "source": [
    "print('hello world')\n",
    "print(1234567)"
   ]
  }
 ],
 "metadata": {
  "kernelspec": {
   "display_name": "Python 3",
   "language": "python",
   "name": "python3"
  },
  "language_info": {
   "codemirror_mode": {
    "name": "ipython",
    "version": 3
   },
   "file_extension": ".py",
   "mimetype": "text/x-python",
   "name": "python",
   "nbconvert_exporter": "python",
   "pygments_lexer": "ipython3",
   "version": "3.6.6rc1"
  }
 },
 "nbformat": 4,
 "nbformat_minor": 2
}
