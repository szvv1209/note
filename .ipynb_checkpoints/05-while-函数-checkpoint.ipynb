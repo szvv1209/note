{
 "cells": [
  {
   "cell_type": "markdown",
   "metadata": {},
   "source": [
    "# while循环\n",
    "- 一个循环语句\n",
    "- 表示当某条件成立的时候就循环\n",
    "- 不知道循环的具体次数，但能知道循环的成立的条件的时候，用while循环\n",
    "- while语法\n",
    "\n",
    "        while 条件表达式：\n",
    "             语句块\n",
    "             \n",
    "- 另一种表达式\n",
    "        while 条件表达式：\n",
    "             语句块1\n",
    "        else：\n",
    "             语句块2"
   ]
  },
  {
   "cell_type": "code",
   "execution_count": 2,
   "metadata": {},
   "outputs": [
    {
     "name": "stdout",
     "output_type": "stream",
     "text": [
      "第1年拿了106700.0块钱\n",
      "第2年拿了113848.9块钱\n",
      "第3年拿了121476.77629999998块钱\n",
      "第4年拿了129615.72031209998块钱\n",
      "第5年拿了138299.97357301068块钱\n",
      "第6年拿了147566.07180240238块钱\n",
      "第7年拿了157452.99861316333块钱\n",
      "第8年拿了168002.34952024528块钱\n",
      "第9年拿了179258.5069381017块钱\n",
      "第10年拿了191268.8269029545块钱\n",
      "第11年拿了204083.83830545243块钱\n"
     ]
    }
   ],
   "source": [
    "#如果年利率是6.7%，本利是每年翻滚，则多少年后本钱翻倍\n",
    "benqian=100000\n",
    "year=0\n",
    "while benqian<200000:\n",
    "    benqian=benqian*(1+0.067)\n",
    "    year += 1 #year=year+1\n",
    "    print(\"第{0}年拿了{1}块钱\".format(year,benqian))"
   ]
  },
  {
   "cell_type": "code",
   "execution_count": 3,
   "metadata": {},
   "outputs": [
    {
     "name": "stdout",
     "output_type": "stream",
     "text": [
      "第1年拿了106700.0块钱\n",
      "第2年拿了113848.9块钱\n",
      "第3年拿了121476.77629999998块钱\n",
      "第4年拿了129615.72031209998块钱\n",
      "第5年拿了138299.97357301068块钱\n",
      "第6年拿了147566.07180240238块钱\n",
      "第7年拿了157452.99861316333块钱\n",
      "第8年拿了168002.34952024528块钱\n",
      "第9年拿了179258.5069381017块钱\n",
      "第10年拿了191268.8269029545块钱\n",
      "第11年拿了204083.83830545243块钱\n",
      "大爷的，终于翻倍了\n",
      "通货膨胀已经三四倍了\n"
     ]
    }
   ],
   "source": [
    "#如果年利率是6.7%，本利是每年翻滚，则多少年后本钱翻倍\n",
    "#如果钱翻倍，用print庆祝一下\n",
    "benqian=100000\n",
    "year=0\n",
    "while benqian<200000:\n",
    "    benqian=benqian*(1+0.067)\n",
    "    year += 1 #year=year+1\n",
    "    print(\"第{0}年拿了{1}块钱\".format(year,benqian))\n",
    "else:\n",
    "    print(\"大爷的，终于翻倍了\")\n",
    "    print(\"通货膨胀已经三四倍了\")"
   ]
  },
  {
   "cell_type": "markdown",
   "metadata": {},
   "source": [
    "# 函数\n",
    "- 代码的一种组织形式\n",
    "- 一个函数一般完成一项特定的功能\n",
    "- 函数使用\n",
    "     - 函数需要先定义\n",
    "     - 使用函数，俗称调用\n",
    "     "
   ]
  },
  {
   "cell_type": "code",
   "execution_count": 7,
   "metadata": {},
   "outputs": [
    {
     "name": "stdout",
     "output_type": "stream",
     "text": [
      "我没缩进，不是函数内的\n"
     ]
    }
   ],
   "source": [
    "# 定义一个函数\n",
    "#只是定义的话不会执行\n",
    "#1.def 是关键字，后面跟一个空格\n",
    "#2.函数名自己定义，取名需要遵循变量命名规则，约定俗成，不用大驼峰，大驼峰只给类用\n",
    "#3.后面括号冒号不能省，括号内可以有参数\n",
    "#4.函数内所有代码缩进\n",
    "def func():\n",
    "    print(\"我是一个函数\")\n",
    "    print(\"我要完成一个特定的功能\")\n",
    "    print(\"我结束了\")\n",
    "print(\"我没缩进，不是函数内的\")"
   ]
  },
  {
   "cell_type": "code",
   "execution_count": 6,
   "metadata": {},
   "outputs": [
    {
     "name": "stdout",
     "output_type": "stream",
     "text": [
      "我是一个函数\n",
      "我要完成一个特定的功能\n",
      "我结束了\n"
     ]
    }
   ],
   "source": [
    "# 函数的调用\n",
    "# 直接函数名 后面跟括号\n",
    "func()"
   ]
  },
  {
   "cell_type": "markdown",
   "metadata": {},
   "source": [
    "## 函数的参数和返回值\n",
    "- 参数：负责给函数传递一些必要的数据或信息\n",
    "      - 形参（形式参数）：在函数定义的时候用到的的参数，没有具体值，只是一个占位的符号，称为形参\n",
    "      - 实参（实际参数）：在调用函数的时候输入的值\n",
    "- 返回值：函数的执行结果\n",
    "      - 使用return关键字\n",
    "      - 如果没有return，默认返回一个None\n",
    "      - 函数一旦执行return，则无条件返回，函数结束了"
   ]
  },
  {
   "cell_type": "code",
   "execution_count": 8,
   "metadata": {},
   "outputs": [
    {
     "name": "stdout",
     "output_type": "stream",
     "text": [
      "明月,你怎么了\n",
      "sir,你不理我我就走了\n"
     ]
    }
   ],
   "source": [
    "# 参数的定义和使用\n",
    "#参数person只是一个符号，代表的是调用的时候某一个数据\n",
    "#调用的时候会用P的值，代替函数中所有的person\n",
    "def hello(person):\n",
    "    print(\"{0},你怎么了\".format(person))\n",
    "    print(\"sir,你不理我我就走了\")\n",
    "p=\"明月\"\n",
    "hello(p)"
   ]
  },
  {
   "cell_type": "code",
   "execution_count": 10,
   "metadata": {},
   "outputs": [
    {
     "name": "stdout",
     "output_type": "stream",
     "text": [
      "明月,你怎么了\n",
      "sir,你不理我我就走了\n",
      "我已经和明月打完招呼了，明月不理我\n"
     ]
    }
   ],
   "source": [
    "# return语句的基本使用\n",
    "#函数打完招呼后返回一句话\n",
    "def hello(person):\n",
    "    print(\"{0},你怎么了\".format(person))\n",
    "    print(\"sir,你不理我我就走了\")\n",
    "    \n",
    "    return\"我已经和{0}打完招呼了，{1}不理我\".format(person,person)\n",
    "    \n",
    "p=\"明月\"\n",
    "rst=hello(p)\n",
    "print(rst)"
   ]
  },
  {
   "cell_type": "code",
   "execution_count": 13,
   "metadata": {},
   "outputs": [
    {
     "name": "stdout",
     "output_type": "stream",
     "text": [
      "明月,你怎么了\n",
      "哈哈哈，我提前结束了\n"
     ]
    }
   ],
   "source": [
    "#return案例2\n",
    "def hello(person):\n",
    "    print(\"{0},你怎么了\".format(person))\n",
    "    return\"哈哈哈，我提前结束了\"\n",
    "    print(\"sir,你不理我我就走了\")\n",
    "    \n",
    "    return\"我已经和{0}打完招呼了，{1}不理我\".format(person,person)\n",
    "    \n",
    "p=\"明月\"\n",
    "rst=hello(p)\n",
    "print(rst)"
   ]
  },
  {
   "cell_type": "code",
   "execution_count": 15,
   "metadata": {},
   "outputs": [
    {
     "name": "stdout",
     "output_type": "stream",
     "text": [
      "Help on built-in function print in module builtins:\n",
      "\n",
      "print(...)\n",
      "    print(value, ..., sep=' ', end='\\n', file=sys.stdout, flush=False)\n",
      "    \n",
      "    Prints the values to a stream, or to sys.stdout by default.\n",
      "    Optional keyword arguments:\n",
      "    file:  a file-like object (stream); defaults to the current sys.stdout.\n",
      "    sep:   string inserted between values, default a space.\n",
      "    end:   string appended after the last value, default a newline.\n",
      "    flush: whether to forcibly flush the stream.\n",
      "\n"
     ]
    }
   ],
   "source": [
    "#查找函数的帮助文档。\n",
    "#用help函数\n",
    "#print每结束一次，默认换行，我们带上end，让每次结束的时候变成空格\n",
    "help(print)"
   ]
  },
  {
   "cell_type": "code",
   "execution_count": 29,
   "metadata": {},
   "outputs": [
    {
     "name": "stdout",
     "output_type": "stream",
     "text": [
      "1*1=1 -----------------------------\n",
      "2*1=2 2*2=4 -----------------------------\n",
      "3*1=3 3*2=6 3*3=9 -----------------------------\n",
      "4*1=4 4*2=8 4*3=12 4*4=16 -----------------------------\n",
      "5*1=5 5*2=10 5*3=15 5*4=20 5*5=25 -----------------------------\n",
      "6*1=6 6*2=12 6*3=18 6*4=24 6*5=30 6*6=36 -----------------------------\n",
      "7*1=7 7*2=14 7*3=21 7*4=28 7*5=35 7*6=42 7*7=49 -----------------------------\n",
      "8*1=8 8*2=16 8*3=24 8*4=32 8*5=40 8*6=48 8*7=56 8*8=64 -----------------------------\n",
      "9*1=9 9*2=18 9*3=27 9*4=36 9*5=45 9*6=54 9*7=63 9*8=72 9*9=81 -----------------------------\n"
     ]
    }
   ],
   "source": [
    "# 九九乘法表\n",
    "#print每结束一次，默认换行，我们带上end，让每次结束的时候变成空格\n",
    "\n",
    "for row in range(1,10):\n",
    "    #打印一行\n",
    "    for col in range(1,row+1):\n",
    "        #打印列\n",
    "        print(\"{0}*{1}=\".format(row,col),end=\"\")\n",
    "        print(row * col,end=\" \")\n",
    "    print(\"-----------------------------\")"
   ]
  },
  {
   "cell_type": "code",
   "execution_count": 34,
   "metadata": {},
   "outputs": [
    {
     "name": "stdout",
     "output_type": "stream",
     "text": [
      "1*1=1 \n",
      "2*1=2 2*2=4 \n",
      "3*1=3 3*2=6 3*3=9 \n",
      "4*1=4 4*2=8 4*3=12 4*4=16 \n",
      "5*1=5 5*2=10 5*3=15 5*4=20 5*5=25 \n",
      "6*1=6 6*2=12 6*3=18 6*4=24 6*5=30 6*6=36 \n",
      "7*1=7 7*2=14 7*3=21 7*4=28 7*5=35 7*6=42 7*7=49 \n",
      "8*1=8 8*2=16 8*3=24 8*4=32 8*5=40 8*6=48 8*7=56 8*8=64 \n",
      "9*1=9 9*2=18 9*3=27 9*4=36 9*5=45 9*6=54 9*7=63 9*8=72 9*9=81 \n"
     ]
    }
   ],
   "source": [
    "#定义一个函数打印99乘法表\n",
    "def printline(row):\n",
    "    for col in range(1,row+1):\n",
    "         print(\"{0}*{1}=\".format(row,col),end=\"\")\n",
    "         print(row * col,end=\" \")\n",
    "    print(\"\")\n",
    "    \n",
    "#打印乘法表\n",
    "for row in range(1,10):\n",
    "    printline(row)"
   ]
  },
  {
   "cell_type": "markdown",
   "metadata": {},
   "source": [
    "## 参数详解\n",
    "- 参考资料：https://www.cnblogs.com/bingabcd/p/6671368.html\n",
    "- python参考资料：headfirst python --> 零基础入门学习Python(小甲鱼)，本讲义参考流畅的python --> 习题 --> 腾讯免费公开免费课\n",
    "- 参数分类\n",
    "    - 普通参数\n",
    "    - 默认参数\n",
    "    - 关键字参数\n",
    "    - 收集参数\n",
    "- 普通参数\n",
    "    - 参见上例\n",
    "    - 定义的时候直接定义变量名\n",
    "    - 调用的时候直接把变量或值放入指定位置\n",
    "            \n",
    "            def 函数名（参数1，参数2，······）：\n",
    "                函数体\n",
    "            # 调用\n",
    "            函数名（value1,value2,······）\n",
    "            \n",
    "            # 调用的时候，具体值参考的是位置，按位置赋值\n",
    "            \n",
    "- 默认参数\n",
    "    - 形参带有默认值\n",
    "    - 调用的时候，如果没有对相应的形参赋值，则使用默认值\n",
    "            \n",
    "            def func_name（p1=v1，p2=v2，······）：\n",
    "                func_block\n",
    "            \n",
    "            # 调用1\n",
    "              func_name（）\n",
    "              \n",
    "            # 调用2\n",
    "               value1=100\n",
    "               value2=200\n",
    "               func_name（value1,value2）"
   ]
  },
  {
   "cell_type": "code",
   "execution_count": 4,
   "metadata": {},
   "outputs": [],
   "source": [
    "#默认参数示例\n",
    "#报名函数，默认是男生\n",
    "def reg(name,age,gender=\"男\"):\n",
    "    if gender==\"男\":\n",
    "        print(\"{0} is {1},and he is a good boy\".format(name,age))\n",
    "    else:\n",
    "        print(\"{0} is {1},and she is a good girl\".format(name,age))\n",
    "    "
   ]
  },
  {
   "cell_type": "code",
   "execution_count": 5,
   "metadata": {},
   "outputs": [
    {
     "name": "stdout",
     "output_type": "stream",
     "text": [
      "李雷 is 21,and he is a good boy\n",
      "韩梅梅 is 20,and she is a good girl\n"
     ]
    }
   ],
   "source": [
    "#调用默认参数函数案例\n",
    "reg(\"李雷\",21)\n",
    "reg(\"韩梅梅\",20,\"女\")"
   ]
  }
 ],
 "metadata": {
  "kernelspec": {
   "display_name": "Python 3",
   "language": "python",
   "name": "python3"
  },
  "language_info": {
   "codemirror_mode": {
    "name": "ipython",
    "version": 3
   },
   "file_extension": ".py",
   "mimetype": "text/x-python",
   "name": "python",
   "nbconvert_exporter": "python",
   "pygments_lexer": "ipython3",
   "version": "3.7.0"
  }
 },
 "nbformat": 4,
 "nbformat_minor": 2
}
