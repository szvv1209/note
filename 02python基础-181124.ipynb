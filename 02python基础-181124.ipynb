{
 "cells": [
  {
   "cell_type": "markdown",
   "metadata": {},
   "source": [
    "# 环境安装\n",
    "- 推荐virtualbox+Ubuntu\n",
    "- 套件推荐anaconda+pycharm\n",
    "- 如果机器内存大于4G，推荐虚拟机下启动系统\n",
    "- 如果小于4G，推荐用windows下的anaconda+pycharm\n",
    "\n",
    "# 注释\n",
    "- 注释的写法：\n",
    "      - 行注释：以#开头，可以单独行，也可以在代码后面写\n",
    "      - 块注释：几行代码或内容一起注释，三个连续单引号或者双引号开始，三个单引号或双引号结束''' '''"
   ]
  },
  {
   "cell_type": "markdown",
   "metadata": {},
   "source": [
    "# 变量\n",
    "- 程序=数据结构+算法\n",
    "- 变量就是一个可以重复使用的量，或者叫一个代号\n",
    "- 变量命名的规则\n",
    "     - 可以包含数字，大小写字母，下划线或者更多，但是不推荐除了前三种之外的符号\n",
    "     - 数字不可以打头\n",
    "     - 一般在python中，以下划线开头的具有特殊含义，不建议使用\n",
    "           - 比如_age,_name,理论可以，但强烈不推荐\n",
    "     - 大小写不一样，俗称大小写敏感\n",
    "     - 推荐\n",
    "           - 使用具有固定含义的英文单词或词组，srv=server,一般以posix命名规则为主\n",
    "           - 驼峰命名法\n",
    "                - 名称以单词自动连接，首字母大写\n",
    "                      - 大驼峰，每个单词字母均大写，MyFirstLove\n",
    "                            - 给类命名\n",
    "                      - 小驼峰，类似大驼峰，第一个字母小写,myFirstLove\n",
    "                            - 给普通变量或者普通函数命名\n",
    "                      -posix写法\n",
    "                            - 多个单词之间用下划线连接，单词全部小写，my_first_love\n",
    "     - 保留字和关键字\n",
    "           - 变量命名必须避开，不能跟关键词和保留字重复\n",
    "           - class,def,break,for\n",
    "           - 如何查看关键字和保留字"
   ]
  },
  {
   "cell_type": "code",
   "execution_count": 5,
   "metadata": {},
   "outputs": [
    {
     "name": "stdout",
     "output_type": "stream",
     "text": [
      "<module 'keyword' from 'C:\\\\Users\\\\OFFICE COMPUTER\\\\Anaconda3\\\\lib\\\\keyword.py'>\n"
     ]
    }
   ],
   "source": [
    "#查看关键字\n",
    "import keyword #引入关键字模块\n",
    "#打印出系统全部关键字\n",
    "print(keyword,kwlist)"
   ]
  },
  {
   "cell_type": "markdown",
   "metadata": {},
   "source": [
    "## 变量的声明\n",
    "- var_name=var_value\n",
    "- var1=var=var3=var_value\n",
    "- var1,var2,var3=v1,v2,v3"
   ]
  },
  {
   "cell_type": "code",
   "execution_count": 7,
   "metadata": {},
   "outputs": [
    {
     "name": "stdout",
     "output_type": "stream",
     "text": [
      "18\n",
      "18\n",
      "18 18 18 20 25 30\n"
     ]
    }
   ],
   "source": [
    "#定义age,把18放入变量age中\n",
    "age=18\n",
    "print(age)\n",
    "print(18)\n",
    "#给age1,age2,age3,放入同样一个内容或值\n",
    "age1=age2=age3=18\n",
    "age4,age5,age6=20,25,30\n",
    "print(age1,age2,age3,age4,age5,age6)"
   ]
  },
  {
   "cell_type": "markdown",
   "metadata": {},
   "source": [
    "## 变量的类型\n",
    "- 严格意义上讲，python只有一个类型\n",
    "- 标准数据一共六种\n",
    "     - 数据类型number\n",
    "     - 字符串类型str\n",
    "     - 列表list\n",
    "     - 元祖tuple\n",
    "     - 字典Dictionary\n",
    "     - 集合set"
   ]
  },
  {
   "cell_type": "markdown",
   "metadata": {},
   "source": [
    "## number数字类型\n",
    "- 数字类型没有大小限制\n",
    "### 整数\n",
    "- 没有小数部分，表示个数的数字\n",
    "- 自然数，0，负自然数\n",
    "-整数分进制\n",
    "     - 二进制\n",
    "          - 计算机常用\n",
    "          - 是计算机唯一能理解的数字\n",
    "          - 表示为以0b开头的，0,1表示的代码，例如0b01101\n",
    "     - 八进制\n",
    "          - 不常用\n",
    "          - 以0O开头，包含0-7的数字\n",
    "     - 十六进制\n",
    "          - 逢16进1\n",
    "          - 其实是每四位二进制表示一位十六进制\n",
    "          - 包含0-9，a-f\n",
    "          -数字上以0x开头表示\n",
    "     - 十进制\n",
    "           - 15 20 30"
   ]
  },
  {
   "cell_type": "code",
   "execution_count": 9,
   "metadata": {},
   "outputs": [
    {
     "name": "stdout",
     "output_type": "stream",
     "text": [
      "18 18 66 255\n"
     ]
    }
   ],
   "source": [
    "a=18\n",
    "b=0b10010\n",
    "c=0o102\n",
    "d=0xff #十六进制中ff表示二进制的1111 1111\n",
    "print(a,b,c,d)"
   ]
  },
  {
   "cell_type": "markdown",
   "metadata": {},
   "source": [
    "### 浮点数\n",
    "- 小数\n",
    "- 计算机里面表示浮点数可以有条件省略，3.，或者.5\n",
    "- 科学计数法\n",
    "     - 定义同数学中定义\n",
    "     - 写法是用e/E后面跟整数表示10的指数，176.23==1.7623e2,0.876==8.76e-1\n",
    "### 复数complex\n",
    "- 定义同数学定义\n",
    "- 一个由实部和虚部构成的数字，虚部由j/J表示\n",
    "### 布尔值\n",
    "- 表示真假的值，只有Trun,False，一定一定一定是大写的T和F\n",
    "- 真1，假0，可以直接跟数字操作"
   ]
  },
  {
   "cell_type": "code",
   "execution_count": 12,
   "metadata": {},
   "outputs": [
    {
     "name": "stdout",
     "output_type": "stream",
     "text": [
      "19\n"
     ]
    }
   ],
   "source": [
    "#布尔值操作\n",
    "a=18+True\n",
    "print(a)"
   ]
  },
  {
   "cell_type": "markdown",
   "metadata": {},
   "source": [
    "## 字符串\n",
    "- 用来表示一串文字信息\n",
    "- 如何表示\n",
    "     - 单引号\n",
    "     - 双引号\n",
    "     - 三引号（三个单引号或者三个双引号）\n",
    "          - 能够扩起多行信息，可以包含换行\n",
    "- 单双引号交错使用"
   ]
  },
  {
   "cell_type": "code",
   "execution_count": null,
   "metadata": {},
   "outputs": [],
   "source": []
  }
 ],
 "metadata": {
  "kernelspec": {
   "display_name": "Python 3",
   "language": "python",
   "name": "python3"
  },
  "language_info": {
   "codemirror_mode": {
    "name": "ipython",
    "version": 3
   },
   "file_extension": ".py",
   "mimetype": "text/x-python",
   "name": "python",
   "nbconvert_exporter": "python",
   "pygments_lexer": "ipython3",
   "version": "3.7.0"
  }
 },
 "nbformat": 4,
 "nbformat_minor": 2
}
