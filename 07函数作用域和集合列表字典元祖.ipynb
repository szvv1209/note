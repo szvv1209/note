{
 "cells": [
  {
   "cell_type": "markdown",
   "metadata": {},
   "source": [
    "# 变量作用域\n",
    "- 变量由作用范围限制\n",
    "- 分类，按作用域分类\n",
    "    - 全局（global）：在函数外部定义\n",
    "    - 局部（local）：在函数内部定义\n",
    "- 变量的作用范围：\n",
    "    - 全局变量：在整个全局范围有效，慎重使用，容易污染别人\n",
    "    - 全局变量在局部可以使用（函数内部可以使用函数外定义的变量）\n",
    "    - 局部变量：在局部范围可以使用\n",
    "    - 局部变量在全局范围无法使用\n",
    "- LEGB原则：\n",
    "    - L（local）局部作用域\n",
    "    - E（enclosing funciont local）外部嵌套函数作用域\n",
    "    - G（Global module）函数定义所在模块作用域\n",
    "    - B（Buildin）:python内置模块的作用域\n",
    "    - 函数块可以调用函数外面以及自身内部定义的变量；函数块之间不可以调用彼此的变量；函数块外部不能调用函数内定义的变量；函数块内和函数块外的变量重合的时候，函数中调用的是它自身的变量（就近）。"
   ]
  },
  {
   "cell_type": "markdown",
   "metadata": {},
   "source": [
    "## 提升局部变量为全局变量\n",
    "- 使用global\n",
    "- 案例如下,注意用法，后面直接跟着变量名"
   ]
  },
  {
   "cell_type": "code",
   "execution_count": 25,
   "metadata": {},
   "outputs": [
    {
     "name": "stdout",
     "output_type": "stream",
     "text": [
      "100\n",
      "i am in fun\n",
      "99\n",
      "100\n"
     ]
    }
   ],
   "source": [
    "def fun():\n",
    "    global b1\n",
    "    b1=100\n",
    "    print(b1)\n",
    "    print(\"i am in fun\")\n",
    "    b2=99\n",
    "    print(b2)\n",
    "fun()\n",
    "print(b1)\n",
    "#print(b2)"
   ]
  },
  {
   "cell_type": "markdown",
   "metadata": {},
   "source": [
    "# globals,locals函数\n",
    "- 可以通过globals,locals函数显示出全局变量和局部变量\n",
    "-参看案例"
   ]
  },
  {
   "cell_type": "code",
   "execution_count": 7,
   "metadata": {},
   "outputs": [
    {
     "name": "stdout",
     "output_type": "stream",
     "text": [
      "globals={'__name__': '__main__', '__doc__': 'Automatically created module for IPython interactive environment', '__package__': None, '__loader__': None, '__spec__': None, '__builtin__': <module 'builtins' (built-in)>, '__builtins__': <module 'builtins' (built-in)>, '_ih': ['', 'def fun():\\n    global b1=100\\n    print(b1)\\n    print(\"i am in fun\")\\n    b2=99\\n    print(b2)\\nprint(b1)\\nprint(b2)\\nfun()', 'def fun():\\n    global b1\\n    b1=100\\n    print(b1)\\n    print(\"i am in fun\")\\n    b2=99\\n    print(b2)\\nprint(b1)\\n#print(b2)\\nfun()', 'def fun():\\n    global b1\\n    b1=100\\n    print(b1)\\n    print(\"i am in fun\")\\n    b2=99\\n    print(b2)\\n#print(b1)\\n#print(b2)\\nfun()', '# globals,locals函数\\na=1\\nb=2\\ndef  fun(c,d):\\n    e=111\\n    print(\"globals={0}\".format(globals()))\\n    print(\"locals={0}\".format(locals()))\\nfun(100,200)', '# globals,locals函数\\nm=1\\nn=2\\ndef  fun(c,d):\\n    e=111\\n    print(\"globals={0}\".format(globals()))\\n    print(\"locals={0}\".format(locals()))\\nfun(100,200)', '# globals,locals函数\\na=1\\nb=2\\ndef  fun(c,d):\\n    e=111\\n    print(\"globals={0}\".format(globals()))\\n    print(\"locals={0}\".format(locals()))\\nfun(100,200)', '# globals,locals函数\\n# globals和locals是内置函数\\na=1\\nb=2\\ndef  fun(c,d):\\n    e=111\\n    print(\"globals={0}\".format(globals()))\\n    print(\"locals={0}\".format(locals()))\\nfun(100,200)'], '_oh': {}, '_dh': ['C:\\\\Users\\\\OFFICE COMPUTER\\\\笔记'], 'In': ['', 'def fun():\\n    global b1=100\\n    print(b1)\\n    print(\"i am in fun\")\\n    b2=99\\n    print(b2)\\nprint(b1)\\nprint(b2)\\nfun()', 'def fun():\\n    global b1\\n    b1=100\\n    print(b1)\\n    print(\"i am in fun\")\\n    b2=99\\n    print(b2)\\nprint(b1)\\n#print(b2)\\nfun()', 'def fun():\\n    global b1\\n    b1=100\\n    print(b1)\\n    print(\"i am in fun\")\\n    b2=99\\n    print(b2)\\n#print(b1)\\n#print(b2)\\nfun()', '# globals,locals函数\\na=1\\nb=2\\ndef  fun(c,d):\\n    e=111\\n    print(\"globals={0}\".format(globals()))\\n    print(\"locals={0}\".format(locals()))\\nfun(100,200)', '# globals,locals函数\\nm=1\\nn=2\\ndef  fun(c,d):\\n    e=111\\n    print(\"globals={0}\".format(globals()))\\n    print(\"locals={0}\".format(locals()))\\nfun(100,200)', '# globals,locals函数\\na=1\\nb=2\\ndef  fun(c,d):\\n    e=111\\n    print(\"globals={0}\".format(globals()))\\n    print(\"locals={0}\".format(locals()))\\nfun(100,200)', '# globals,locals函数\\n# globals和locals是内置函数\\na=1\\nb=2\\ndef  fun(c,d):\\n    e=111\\n    print(\"globals={0}\".format(globals()))\\n    print(\"locals={0}\".format(locals()))\\nfun(100,200)'], 'Out': {}, 'get_ipython': <bound method InteractiveShell.get_ipython of <ipykernel.zmqshell.ZMQInteractiveShell object at 0x000001A6166658D0>>, 'exit': <IPython.core.autocall.ZMQExitAutocall object at 0x000001A6166B7780>, 'quit': <IPython.core.autocall.ZMQExitAutocall object at 0x000001A6166B7780>, '_': '', '__': '', '___': '', '_i': '# globals,locals函数\\na=1\\nb=2\\ndef  fun(c,d):\\n    e=111\\n    print(\"globals={0}\".format(globals()))\\n    print(\"locals={0}\".format(locals()))\\nfun(100,200)', '_ii': '# globals,locals函数\\nm=1\\nn=2\\ndef  fun(c,d):\\n    e=111\\n    print(\"globals={0}\".format(globals()))\\n    print(\"locals={0}\".format(locals()))\\nfun(100,200)', '_iii': '# globals,locals函数\\na=1\\nb=2\\ndef  fun(c,d):\\n    e=111\\n    print(\"globals={0}\".format(globals()))\\n    print(\"locals={0}\".format(locals()))\\nfun(100,200)', '_i1': 'def fun():\\n    global b1=100\\n    print(b1)\\n    print(\"i am in fun\")\\n    b2=99\\n    print(b2)\\nprint(b1)\\nprint(b2)\\nfun()', '_i2': 'def fun():\\n    global b1\\n    b1=100\\n    print(b1)\\n    print(\"i am in fun\")\\n    b2=99\\n    print(b2)\\nprint(b1)\\n#print(b2)\\nfun()', 'fun': <function fun at 0x000001A61684FEA0>, '_i3': 'def fun():\\n    global b1\\n    b1=100\\n    print(b1)\\n    print(\"i am in fun\")\\n    b2=99\\n    print(b2)\\n#print(b1)\\n#print(b2)\\nfun()', 'b1': 100, '_i4': '# globals,locals函数\\na=1\\nb=2\\ndef  fun(c,d):\\n    e=111\\n    print(\"globals={0}\".format(globals()))\\n    print(\"locals={0}\".format(locals()))\\nfun(100,200)', 'a': 1, 'b': 2, '_i5': '# globals,locals函数\\nm=1\\nn=2\\ndef  fun(c,d):\\n    e=111\\n    print(\"globals={0}\".format(globals()))\\n    print(\"locals={0}\".format(locals()))\\nfun(100,200)', 'm': 1, 'n': 2, '_i6': '# globals,locals函数\\na=1\\nb=2\\ndef  fun(c,d):\\n    e=111\\n    print(\"globals={0}\".format(globals()))\\n    print(\"locals={0}\".format(locals()))\\nfun(100,200)', '_i7': '# globals,locals函数\\n# globals和locals是内置函数\\na=1\\nb=2\\ndef  fun(c,d):\\n    e=111\\n    print(\"globals={0}\".format(globals()))\\n    print(\"locals={0}\".format(locals()))\\nfun(100,200)'}\n",
      "locals={'c': 100, 'd': 200, 'e': 111}\n"
     ]
    }
   ],
   "source": [
    "# globals,locals函数\n",
    "# globals和locals是内置函数\n",
    "a=1\n",
    "b=2\n",
    "def  fun(c,d):\n",
    "    e=111\n",
    "    print(\"globals={0}\".format(globals()))\n",
    "    print(\"locals={0}\".format(locals()))\n",
    "fun(100,200)"
   ]
  },
  {
   "cell_type": "markdown",
   "metadata": {},
   "source": [
    "# eval()函数\n",
    "- 把一个字符串当成代码来执行\n",
    "- 语法：\n",
    "        eval(string_code,globals=None,locals=None)\n",
    "# exec()函数\n",
    "- 跟eval功能相似，但是不返回结果\n",
    "- 语法：\n",
    "        exec(string_code,globals=None,locals=None)"
   ]
  },
  {
   "cell_type": "code",
   "execution_count": 11,
   "metadata": {},
   "outputs": [
    {
     "name": "stdout",
     "output_type": "stream",
     "text": [
      "x+y: 300\n",
      "300\n",
      "300\n",
      "None\n",
      "None\n"
     ]
    }
   ],
   "source": [
    "x=100\n",
    "y=200\n",
    "#执行x+y\n",
    "#z=x+y\n",
    "z1=x+y\n",
    "z2=eval(\"x+y\")\n",
    "z3=exec(\"x+y\")\n",
    "#注意字符串中引号的写法\n",
    "#注意exec执行结果和代码执行结果\n",
    "z4=exec(\"print('x+y:',x+y)\")\n",
    "print(z1)\n",
    "print(z2)\n",
    "print(z3)\n",
    "print(z4)"
   ]
  },
  {
   "cell_type": "markdown",
   "metadata": {},
   "source": [
    "# 递归函数\n",
    "- 函数直接或者间接的调用自身\n",
    "- 优点：简洁，理解容易\n",
    "- 缺点：对递归深度有限制，消耗资源大\n",
    "- python对递归深度有限制，超过限制报错\n",
    "- 在写递归程序的时候，一定注意结束条件"
   ]
  },
  {
   "cell_type": "code",
   "execution_count": 23,
   "metadata": {},
   "outputs": [],
   "source": [
    "#递归调用深度限制代码\n",
    "x=0\n",
    "def fun():\n",
    "    global x\n",
    "    x+=1\n",
    "    print(x)\n",
    "    fun()#函数调用自己\n",
    "#调用函数\n",
    "#fun()"
   ]
  },
  {
   "cell_type": "code",
   "execution_count": 7,
   "metadata": {},
   "outputs": [
    {
     "name": "stdout",
     "output_type": "stream",
     "text": [
      "2\n",
      "5\n"
     ]
    }
   ],
   "source": [
    "#斐波那契数列\n",
    "#一个数列，第一个是1，第二个也是1，从第三个开始，每一个数字的值是前两个值的和\n",
    "#数学公式：f(1)=1,f(2)=1,f(n)=f(n-1)+f(n-2)\n",
    "\n",
    "#下面就斐波那契数列有一定问题，例如N一开始是负数，如何修正\n",
    "#n表示第n个斐波那契数列的值\n",
    "def fib(n):\n",
    "    if n==1:\n",
    "        return 1\n",
    "    if n==2:\n",
    "        return 1\n",
    "    #思考为什么后面return能够正确的执行，而不用else语句\n",
    "    return fib(n-1)+fib(n-2)\n",
    "\n",
    "print(fib(3))\n",
    "print(fib(5))"
   ]
  },
  {
   "cell_type": "markdown",
   "metadata": {},
   "source": [
    "# 内置数据结构（变量类型）\n",
    "- list\n",
    "- set\n",
    "- dict\n",
    "- tuple\n",
    "## list(列表)\n",
    "- 一组有顺序的数据的组合\n",
    "- 创建列表\n",
    "    - 空列表"
   ]
  },
  {
   "cell_type": "code",
   "execution_count": 11,
   "metadata": {},
   "outputs": [
    {
     "name": "stdout",
     "output_type": "stream",
     "text": [
      "<class 'list'>\n",
      "[]\n",
      "[100]\n",
      "[100, 200, 300]\n",
      "<class 'list'>\n",
      "[]\n"
     ]
    }
   ],
   "source": [
    "#创建空列表\n",
    "l1=[]\n",
    "print(type(l1))\n",
    "print(l1)\n",
    "\n",
    "#创建带值的列表\n",
    "l2=[100]\n",
    "print(l2)\n",
    "\n",
    "#创建列表带多个值\n",
    "l3=[100,200,300]\n",
    "print(l3)\n",
    "\n",
    "#使用list()\n",
    "l4=list()\n",
    "print(type(l4))\n",
    "print(l4)"
   ]
  },
  {
   "cell_type": "markdown",
   "metadata": {},
   "source": [
    "## 列表常用操作\n",
    "- 访问\n",
    "    - 使用下标操作（索引）\n",
    "    - 列表的位置是从0开始\n",
    "- 分片操作\n",
    "    - 对列表进行任意一段的截取\n",
    "    - [:],含左不含右\n",
    "    - 分片可以控制增长幅度，默认是1\n",
    "    - 下标值和增长幅度都可以为负数，为负数表明顺序是从右到左，规定数组最后一个值下标为-1\n",
    "    - 如果分片一定左边值比右边值大，则步长参数需要使用负数（list顺序可以颠倒过来）\n",
    "    "
   ]
  },
  {
   "cell_type": "code",
   "execution_count": 17,
   "metadata": {},
   "outputs": [
    {
     "name": "stdout",
     "output_type": "stream",
     "text": [
      "4\n",
      "2\n"
     ]
    }
   ],
   "source": [
    "#下标访问列表\n",
    "l=[2,3,4,1,6,7,8]\n",
    "print(l[2])\n",
    "print(l[0])"
   ]
  },
  {
   "cell_type": "code",
   "execution_count": 30,
   "metadata": {},
   "outputs": [
    {
     "name": "stdout",
     "output_type": "stream",
     "text": [
      "[4, 1, 6]\n",
      "[2, 3, 4, 1, 6, 7, 8]\n",
      "[2, 3, 4]\n",
      "[1, 6, 7, 8]\n",
      "[4, 1, 6, 7, 8]\n"
     ]
    }
   ],
   "source": [
    "#分片操作，注意范围，含左不含右\n",
    "l=[2,3,4,1,6,7,8]\n",
    "print(l[2:5])\n",
    "\n",
    "#下标值为空，左边默认为0，右边默认为最大值加一，即表示截取到最后一个\n",
    "print(l[:])\n",
    "print(l[:3])\n",
    "print(l[3:])\n",
    "\n",
    "#下标可以超出范围，超出后不再考虑余下标内容\n",
    "print(l[2:9])"
   ]
  },
  {
   "cell_type": "code",
   "execution_count": 27,
   "metadata": {},
   "outputs": [
    {
     "name": "stdout",
     "output_type": "stream",
     "text": [
      "[3, 4, 1, 6, 7]\n",
      "[3, 1, 7]\n",
      "[3, 6]\n"
     ]
    }
   ],
   "source": [
    "#分片可以控制增长幅度，默认是1\n",
    "l=[2,3,4,1,6,7,8]\n",
    "print(l[1:6:1])\n",
    "print(l[1:6:2])\n",
    "print(l[1:6:3])"
   ]
  },
  {
   "cell_type": "code",
   "execution_count": 41,
   "metadata": {},
   "outputs": [
    {
     "name": "stdout",
     "output_type": "stream",
     "text": [
      "[2, 3, 4, 1, 6, 7, 8]\n",
      "[]\n",
      "[4, 1, 6]\n",
      "[7, 1]\n"
     ]
    }
   ],
   "source": [
    "#下标值和增长幅度都可以为负数，\n",
    "#为负数表明顺序是从右到左\n",
    "#规定数组最后一个值下标为-1\n",
    "l=[2,3,4,1,6,7,8]\n",
    "print(l)\n",
    "\n",
    "#下面显示为空，因为默认分片总是从左到右\n",
    "print(l[-2:-5])\n",
    "print(l[-5:-2])\n",
    "\n",
    "#如果分片一定左边值比右边值大，则步长参数需要使用负数\n",
    "#此案例为一个List直接正反颠倒提供了一种思路\n",
    "print(l[-2:-6:-2])"
   ]
  },
  {
   "cell_type": "markdown",
   "metadata": {},
   "source": [
    "## 分片操作是生成一个新的List\n",
    "- 内置函数id负责显示一个变量或者数据的唯一确定的编号"
   ]
  },
  {
   "cell_type": "code",
   "execution_count": 46,
   "metadata": {},
   "outputs": [
    {
     "name": "stdout",
     "output_type": "stream",
     "text": [
      "140733656464224\n",
      "140733656467424\n",
      "140733656464224\n",
      "101\n",
      "100\n"
     ]
    }
   ],
   "source": [
    "#id函数举例\n",
    "a=100\n",
    "b=200\n",
    "print(id(a))\n",
    "print(id(b))\n",
    "c=a\n",
    "print(id(c))\n",
    "\n",
    "#如果a c 指向同一个数据，则更改a的值同样也会更改c的值\n",
    "#但是显示结果并非如此，为什么？\n",
    "a=101\n",
    "print(a)\n",
    "print(c)"
   ]
  },
  {
   "cell_type": "code",
   "execution_count": 49,
   "metadata": {},
   "outputs": [
    {
     "name": "stdout",
     "output_type": "stream",
     "text": [
      "2896695592840\n",
      "2896674123656\n",
      "2896695592840\n"
     ]
    }
   ],
   "source": [
    "#通过id可以直接判断出分片是从新生成了一份数据还是使用原来的数据\n",
    "l=[2,3,4,1,6,7,8]\n",
    "print(id(l))\n",
    "print(id(l[2:4]))\n",
    "l1=l\n",
    "print(id(l1))"
   ]
  },
  {
   "cell_type": "code",
   "execution_count": null,
   "metadata": {},
   "outputs": [],
   "source": []
  }
 ],
 "metadata": {
  "kernelspec": {
   "display_name": "Python 3",
   "language": "python",
   "name": "python3"
  },
  "language_info": {
   "codemirror_mode": {
    "name": "ipython",
    "version": 3
   },
   "file_extension": ".py",
   "mimetype": "text/x-python",
   "name": "python",
   "nbconvert_exporter": "python",
   "pygments_lexer": "ipython3",
   "version": "3.7.0"
  }
 },
 "nbformat": 4,
 "nbformat_minor": 2
}
