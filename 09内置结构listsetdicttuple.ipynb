{
 "cells": [
  {
   "cell_type": "code",
   "execution_count": 1,
   "metadata": {},
   "outputs": [
    {
     "name": "stdout",
     "output_type": "stream",
     "text": [
      "[1, 2, 3, 4, 5, 6]\n",
      "[1, 2, 100, 4, 5, 6]\n",
      "[1, 2, 100, 4, 5, 6]\n",
      "9\n",
      "109\n",
      "9\n"
     ]
    }
   ],
   "source": [
    "#传值与传址的区别\n",
    "#对于简单的操作采用传值操作，即在函数内对参数的操作不影响外面的变量\n",
    "#对于复杂变量采用传址操作，此时函数内的参数和外部变量同一份内容，任何地方对此内容的更改都影响另外的变量或参数的使用\n",
    "\n",
    "def a(n):\n",
    "    n[2]=100\n",
    "    print(n)\n",
    "    return None\n",
    "def b(n):\n",
    "    n+=100\n",
    "    print(n)\n",
    "    return None\n",
    "\n",
    "an=[1,2,3,4,5,6]\n",
    "bn=9\n",
    "\n",
    "print(an)\n",
    "a(an)\n",
    "print(an)\n",
    "\n",
    "print(bn)\n",
    "b(bn)\n",
    "print(bn)"
   ]
  },
  {
   "cell_type": "markdown",
   "metadata": {},
   "source": [
    "# 关于列表的函数"
   ]
  },
  {
   "cell_type": "code",
   "execution_count": 15,
   "metadata": {},
   "outputs": [
    {
     "name": "stdout",
     "output_type": "stream",
     "text": [
      "[1, 2, 3, 4]\n",
      "[1, 2, 3, 4, 100]\n"
     ]
    }
   ],
   "source": [
    "#append 插入一个内容,在末尾追加\n",
    "\n",
    "a=[i for i in range(1,5)]\n",
    "print(a)\n",
    "a.append(100)\n",
    "print(a)"
   ]
  },
  {
   "cell_type": "code",
   "execution_count": 16,
   "metadata": {},
   "outputs": [
    {
     "name": "stdout",
     "output_type": "stream",
     "text": [
      "[1, 2, 3, 4, 100]\n",
      "[1, 2, 3, 666, 4, 100]\n"
     ]
    }
   ],
   "source": [
    "#insert 指定位置插入\n",
    "#insert(index,data)，插入位置是index前面\n",
    "\n",
    "print(a)\n",
    "a.insert(3,666)\n",
    "print(a)"
   ]
  },
  {
   "cell_type": "code",
   "execution_count": 17,
   "metadata": {},
   "outputs": [
    {
     "name": "stdout",
     "output_type": "stream",
     "text": [
      "[1, 2, 3, 666, 4, 100]\n",
      "100\n",
      "[1, 2, 3, 666, 4]\n"
     ]
    }
   ],
   "source": [
    "# 删除\n",
    "#del 删除（删除指定下标的元素）\n",
    "#pop，从对位拿出一个元素，即把最后一个元素拿出来（删除最后）\n",
    "\n",
    "print(a)\n",
    "last_ele=a.pop()\n",
    "print(last_ele)\n",
    "print(a)"
   ]
  },
  {
   "cell_type": "code",
   "execution_count": 18,
   "metadata": {},
   "outputs": [
    {
     "name": "stdout",
     "output_type": "stream",
     "text": [
      "[1, 2, 3, 666, 4]\n",
      "2352301812424\n",
      "[1, 2, 3, 4]\n",
      "2352301812424\n"
     ]
    }
   ],
   "source": [
    "# remove:在列表中删除指定位置的的值的元素（删除指定值）\n",
    "#如果被删除的值没在list中，则报错\n",
    "#即删除List中的指定值应该先用try···excepty语句，或者先行进行判断\n",
    "#if x in list:\n",
    "#    list.remove(x)\n",
    "\n",
    "print(a)\n",
    "print(id(a))\n",
    "a.remove(666)\n",
    "print(a)\n",
    "print(id(a))\n",
    "#输出两个Id值一样，说明remove是在原来的list上直接操作"
   ]
  },
  {
   "cell_type": "code",
   "execution_count": 19,
   "metadata": {},
   "outputs": [
    {
     "name": "stdout",
     "output_type": "stream",
     "text": [
      "[1, 2, 3, 4]\n",
      "2352301812424\n",
      "[]\n",
      "2352301812424\n"
     ]
    }
   ],
   "source": [
    "#clear 清空\n",
    "print(a)\n",
    "print(id(a))\n",
    "a.clear()\n",
    "print(a)\n",
    "print(id(a))\n",
    "\n",
    "#如果不需要列表保持地址不变，则清空列表可以使用以下方式\n",
    "#a=list()\n",
    "#a=[]"
   ]
  },
  {
   "cell_type": "code",
   "execution_count": 20,
   "metadata": {},
   "outputs": [
    {
     "name": "stdout",
     "output_type": "stream",
     "text": [
      "[1, 2, 3, 4, 5]\n",
      "2352301908360\n",
      "[5, 4, 3, 2, 1]\n",
      "2352301908360\n"
     ]
    }
   ],
   "source": [
    "#reverse 翻转列表内容，原地翻转\n",
    "a=[1,2,3,4,5]\n",
    "print(a)\n",
    "print(id(a))\n",
    "\n",
    "a.reverse()\n",
    "print(a)\n",
    "print(id(a))"
   ]
  },
  {
   "cell_type": "code",
   "execution_count": 22,
   "metadata": {},
   "outputs": [
    {
     "name": "stdout",
     "output_type": "stream",
     "text": [
      "2352302688328\n",
      "[1, 2, 3, 4, 5, 6, 7, 8, 9, 10]\n",
      "2352302688328\n"
     ]
    }
   ],
   "source": [
    "#extend:扩展列表,两个列表，把一个直接拼接到后一个上\n",
    "a=[1,2,3,4,5]\n",
    "b=[6,7,8,9,10]\n",
    "a.extend(b)\n",
    "print(id(a))\n",
    "print(a)\n",
    "print(id(a))"
   ]
  },
  {
   "cell_type": "code",
   "execution_count": 25,
   "metadata": {},
   "outputs": [
    {
     "name": "stdout",
     "output_type": "stream",
     "text": [
      "[1, 2, 3, 4, 5, 6, 5, 3, 2, 8, 5]\n",
      "3\n"
     ]
    }
   ],
   "source": [
    "#count 查找列表中指定值或元素的个数\n",
    "a=[1,2,3,4,5,6,5,3,2,8,5]\n",
    "print(a)\n",
    "a_l=a.count(5)\n",
    "print(a_l)"
   ]
  },
  {
   "cell_type": "code",
   "execution_count": 32,
   "metadata": {},
   "outputs": [
    {
     "name": "stdout",
     "output_type": "stream",
     "text": [
      "[1, 2, 3, 4, 5, 666]\n",
      "[1, 2, 3, 777, 5, 666]\n",
      "[1, 2, 3, 777, 5, 666]\n",
      "******************************\n",
      "[1, 2, 3, 777, 5, 666]\n",
      "2352301812744\n",
      "[1, 2, 3, 777, 5, 666]\n",
      "2352301749832\n",
      "******************************\n",
      "[1, 2, 3, 777, 5, 666]\n",
      "[1, 2, 3, 888, 5, 666]\n"
     ]
    }
   ],
   "source": [
    "#copy 拷贝 此函数是浅拷贝\n",
    "\n",
    "#列表类型变量赋值示例\n",
    "a=[1,2,3,4,5,666]\n",
    "print(a)\n",
    "#list类型，简单赋值操作，是传地址，\n",
    "b=a\n",
    "b[3]=777\n",
    "print(a)\n",
    "print(b)\n",
    "\n",
    "print(\"*\"*30)\n",
    "#为了解决以上问题，list赋值需要使用copy函数\n",
    "b=a.copy()\n",
    "print(a)\n",
    "print(id(a))\n",
    "print(b)\n",
    "print(id(b))\n",
    "\n",
    "print(\"*\"*30)\n",
    "b[3]=888\n",
    "print(a)\n",
    "print(b)"
   ]
  },
  {
   "cell_type": "code",
   "execution_count": 35,
   "metadata": {},
   "outputs": [
    {
     "name": "stdout",
     "output_type": "stream",
     "text": [
      "2352302688712\n",
      "2352302687176\n",
      "2352302687112\n",
      "2352302687112\n",
      "[1, 2, 3, [10, 20, 666]]\n",
      "[1, 2, 3, [10, 20, 666]]\n"
     ]
    }
   ],
   "source": [
    "#深拷贝跟浅拷贝的区别\n",
    "#出现下列问题的原因是，copy是个浅拷贝，即只拷贝一层内容\n",
    "#深拷贝需要使用特定工具\n",
    "a=[1,2,3,[10,20,30]]\n",
    "b=a.copy()\n",
    "print(id(a))\n",
    "print(id(b))\n",
    "\n",
    "print(id(a[3]))\n",
    "print(id(b[3]))\n",
    "a[3][2]=666\n",
    "print(a)\n",
    "print(b)"
   ]
  },
  {
   "cell_type": "markdown",
   "metadata": {},
   "source": [
    "# 元素-tuple\n",
    "- 元祖可以看成是一个不可更改的list\n",
    "## 元祖创建"
   ]
  },
  {
   "cell_type": "code",
   "execution_count": 36,
   "metadata": {},
   "outputs": [
    {
     "name": "stdout",
     "output_type": "stream",
     "text": [
      "<class 'tuple'>\n"
     ]
    }
   ],
   "source": [
    "#创建空元祖\n",
    "t=()\n",
    "print(type(t))"
   ]
  },
  {
   "cell_type": "code",
   "execution_count": 40,
   "metadata": {},
   "outputs": [
    {
     "name": "stdout",
     "output_type": "stream",
     "text": [
      "<class 'tuple'>\n",
      "(1,)\n",
      "<class 'int'>\n",
      "1\n",
      "<class 'tuple'>\n",
      "(1,)\n"
     ]
    }
   ],
   "source": [
    "#创建只有一个值的元祖\n",
    "t=(1,)\n",
    "r=1\n",
    "print(type(t))\n",
    "print(t)\n",
    "print(type(r))\n",
    "print(r)\n",
    "\n",
    "t=1,\n",
    "print(type(t))\n",
    "print(t)"
   ]
  },
  {
   "cell_type": "code",
   "execution_count": 43,
   "metadata": {},
   "outputs": [
    {
     "name": "stdout",
     "output_type": "stream",
     "text": [
      "(1, 2, 3, 4)\n",
      "(1, 2, 3, 4)\n"
     ]
    }
   ],
   "source": [
    "#创建多个值的元祖\n",
    "t=(1,2,3,4)\n",
    "print(t)\n",
    "t=1,2,3,4\n",
    "print(t)"
   ]
  },
  {
   "cell_type": "code",
   "execution_count": 44,
   "metadata": {},
   "outputs": [
    {
     "name": "stdout",
     "output_type": "stream",
     "text": [
      "(1, 2, 3, 4)\n"
     ]
    }
   ],
   "source": [
    "#使用其他结构创建\n",
    "l=[1,2,3,4]\n",
    "t=tuple(l)\n",
    "print(t)"
   ]
  },
  {
   "cell_type": "markdown",
   "metadata": {},
   "source": [
    "## 元祖的特性\n",
    "- 是序列表，有序\n",
    "- 元祖数据值可以访问，不能修改，不能修改，不能修改，不能修改，不能修改，\n",
    "- 元祖数据可以是任意类型\n",
    "- 总之，list所有特性，除了可修改外，元祖都具有\n",
    "- 也就意味着，list具有的一些操作，比如索引，分片，序列相加，相乘，成员资格等操作，一模一样"
   ]
  },
  {
   "cell_type": "code",
   "execution_count": 46,
   "metadata": {},
   "outputs": [
    {
     "name": "stdout",
     "output_type": "stream",
     "text": [
      "5\n"
     ]
    }
   ],
   "source": [
    "#索引操作\n",
    "t=(1,2,3,4,5)\n",
    "print(t[4])"
   ]
  },
  {
   "cell_type": "code",
   "execution_count": 47,
   "metadata": {},
   "outputs": [
    {
     "ename": "IndexError",
     "evalue": "tuple index out of range",
     "output_type": "error",
     "traceback": [
      "\u001b[1;31m---------------------------------------------------------------------------\u001b[0m",
      "\u001b[1;31mIndexError\u001b[0m                                Traceback (most recent call last)",
      "\u001b[1;32m<ipython-input-47-3d3d0bfc90a3>\u001b[0m in \u001b[0;36m<module>\u001b[1;34m()\u001b[0m\n\u001b[0;32m      1\u001b[0m \u001b[1;31m#下标错误\u001b[0m\u001b[1;33m\u001b[0m\u001b[1;33m\u001b[0m\u001b[0m\n\u001b[1;32m----> 2\u001b[1;33m \u001b[0mprint\u001b[0m\u001b[1;33m(\u001b[0m\u001b[0mt\u001b[0m\u001b[1;33m[\u001b[0m\u001b[1;36m12\u001b[0m\u001b[1;33m]\u001b[0m\u001b[1;33m)\u001b[0m\u001b[1;33m\u001b[0m\u001b[0m\n\u001b[0m",
      "\u001b[1;31mIndexError\u001b[0m: tuple index out of range"
     ]
    }
   ],
   "source": [
    "#下标错误\n",
    "print(t[12])"
   ]
  },
  {
   "cell_type": "code",
   "execution_count": 51,
   "metadata": {},
   "outputs": [
    {
     "name": "stdout",
     "output_type": "stream",
     "text": [
      "2352274042216\n",
      "2352302684776\n",
      "(1, 2, 3, 4, 5, 6)\n",
      "(2, 4, 6)\n"
     ]
    }
   ],
   "source": [
    "#切片\n",
    "t=(1,2,3,4,5,6)\n",
    "t1=t[1::2]\n",
    "print(id(t))\n",
    "print(id(t1))\n",
    "print(t)\n",
    "print(t1)"
   ]
  },
  {
   "cell_type": "code",
   "execution_count": 52,
   "metadata": {},
   "outputs": [
    {
     "name": "stdout",
     "output_type": "stream",
     "text": [
      "(3, 4, 5, 6)\n"
     ]
    }
   ],
   "source": [
    "#切片可以超标\n",
    "t2=t[2:100]\n",
    "print(t2)"
   ]
  },
  {
   "cell_type": "code",
   "execution_count": 55,
   "metadata": {},
   "outputs": [
    {
     "name": "stdout",
     "output_type": "stream",
     "text": [
      "2352303354168\n",
      "(1, 2, 3, 4, 5, 6, 7, 8)\n",
      "2352301526936\n"
     ]
    }
   ],
   "source": [
    "#序列相加\n",
    "t1=(1,2,3,4)\n",
    "t2=(5,6,7,8)\n",
    "print(id(t1))\n",
    "t1+=t2\n",
    "print(t1)\n",
    "print(id(t1))\n",
    "#本来这个操作list可以，tuple不可以，因为不能更改\n",
    "#但实际上这是个传址操作，已经更改了地址\n",
    "#这个不算修改，已经是重新赋值了\n"
   ]
  },
  {
   "cell_type": "code",
   "execution_count": 57,
   "metadata": {},
   "outputs": [
    {
     "ename": "TypeError",
     "evalue": "'tuple' object does not support item assignment",
     "output_type": "error",
     "traceback": [
      "\u001b[1;31m---------------------------------------------------------------------------\u001b[0m",
      "\u001b[1;31mTypeError\u001b[0m                                 Traceback (most recent call last)",
      "\u001b[1;32m<ipython-input-57-b77a31eb4da2>\u001b[0m in \u001b[0;36m<module>\u001b[1;34m()\u001b[0m\n\u001b[0;32m      1\u001b[0m \u001b[1;31m#tuple的不可修改指的是内容的不可修改\u001b[0m\u001b[1;33m\u001b[0m\u001b[1;33m\u001b[0m\u001b[0m\n\u001b[1;32m----> 2\u001b[1;33m \u001b[0mt1\u001b[0m\u001b[1;33m[\u001b[0m\u001b[1;36m2\u001b[0m\u001b[1;33m]\u001b[0m\u001b[1;33m=\u001b[0m\u001b[1;36m100\u001b[0m\u001b[1;33m\u001b[0m\u001b[0m\n\u001b[0m\u001b[0;32m      3\u001b[0m \u001b[0mprint\u001b[0m\u001b[1;33m(\u001b[0m\u001b[0mt1\u001b[0m\u001b[1;33m)\u001b[0m\u001b[1;33m\u001b[0m\u001b[0m\n",
      "\u001b[1;31mTypeError\u001b[0m: 'tuple' object does not support item assignment"
     ]
    }
   ],
   "source": [
    "#tuple的不可修改指的是内容的不可修改\n",
    "t1[2]=100\n",
    "print(t1)"
   ]
  },
  {
   "cell_type": "code",
   "execution_count": 58,
   "metadata": {},
   "outputs": [
    {
     "name": "stdout",
     "output_type": "stream",
     "text": [
      "(1, 2, 3, 1, 2, 3)\n"
     ]
    }
   ],
   "source": [
    "#元祖相乘\n",
    "t=(1,2,3)\n",
    "t=t*2\n",
    "print(t)\n",
    "#实际上是创建了新的对象"
   ]
  },
  {
   "cell_type": "code",
   "execution_count": 59,
   "metadata": {},
   "outputs": [
    {
     "name": "stdout",
     "output_type": "stream",
     "text": [
      "yes\n"
     ]
    }
   ],
   "source": [
    "#成员检测 in  not in \n",
    "t=(1,2,3)\n",
    "if 2 in t:\n",
    "    print(\"yes\")\n",
    "else:\n",
    "    print(\"no\")"
   ]
  },
  {
   "cell_type": "code",
   "execution_count": 62,
   "metadata": {},
   "outputs": [
    {
     "name": "stdout",
     "output_type": "stream",
     "text": [
      "1  2  3  i like food  haha  "
     ]
    }
   ],
   "source": [
    "#元祖的遍历，一般采用for\n",
    "#1.单层元祖遍历\n",
    "t=(1,2,3,\"i like food\",\"haha\")\n",
    "for i in t:\n",
    "    print(i,end=\"  \")"
   ]
  },
  {
   "cell_type": "code",
   "execution_count": 64,
   "metadata": {},
   "outputs": [
    {
     "name": "stdout",
     "output_type": "stream",
     "text": [
      "(1, 2, 3)\n",
      "(2, 3, 4)\n",
      "('i', 'like', 'food')\n",
      "1 -- 2 -- 3\n",
      "2 -- 3 -- 4\n",
      "i -- like -- food\n"
     ]
    }
   ],
   "source": [
    "#2.双层元祖遍历\n",
    "t=((1,2,3),(2,3,4),(\"i\",\"like\",\"food\"))\n",
    "for i in t:\n",
    "    print(i)\n",
    "\n",
    "for k,m,n in t:\n",
    "    print(k,\"--\",m,\"--\",n)"
   ]
  },
  {
   "cell_type": "code",
   "execution_count": 66,
   "metadata": {},
   "outputs": [
    {
     "name": "stdout",
     "output_type": "stream",
     "text": [
      "1   2   3   2   3   4   i   like   food   "
     ]
    }
   ],
   "source": [
    "for i in t:\n",
    "    for j in i:\n",
    "        print(j,end=\"   \")"
   ]
  }
 ],
 "metadata": {
  "kernelspec": {
   "display_name": "Python 3",
   "language": "python",
   "name": "python3"
  },
  "language_info": {
   "codemirror_mode": {
    "name": "ipython",
    "version": 3
   },
   "file_extension": ".py",
   "mimetype": "text/x-python",
   "name": "python",
   "nbconvert_exporter": "python",
   "pygments_lexer": "ipython3",
   "version": "3.7.0"
  }
 },
 "nbformat": 4,
 "nbformat_minor": 2
}
